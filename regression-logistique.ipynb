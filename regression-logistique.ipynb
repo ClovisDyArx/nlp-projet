{
 "cells": [
  {
   "cell_type": "code",
   "execution_count": 41,
   "id": "d3641b6e-ba57-40d1-ba6d-6d1b29afd3f5",
   "metadata": {},
   "outputs": [],
   "source": [
    "import pandas as pd\n",
    "import numpy as np\n",
    "import seaborn as sns\n",
    "import matplotlib.pyplot as plt\n",
    "from datasets import load_dataset\n",
    "from nltk import word_tokenize          \n",
    "from nltk.stem import WordNetLemmatizer \n",
    "import tiktoken\n",
    "\n",
    "from sklearn.model_selection import train_test_split, cross_val_score, GridSearchCV, StratifiedKFold\n",
    "from sklearn.feature_extraction.text import CountVectorizer, TfidfVectorizer, TfidfTransformer\n",
    "from sklearn.naive_bayes import MultinomialNB\n",
    "from sklearn.pipeline import make_pipeline\n",
    "from sklearn.metrics import classification_report, accuracy_score, ConfusionMatrixDisplay, confusion_matrix\n",
    "from sklearn.utils.class_weight import compute_sample_weight\n",
    "from sklearn.linear_model import LogisticRegression\n",
    "from sklearn.preprocessing import StandardScaler\n",
    "from sklearn.ensemble import VotingClassifier\n",
    "from sklearn.model_selection import GridSearchCV\n",
    "from sklearn.feature_extraction.text import TfidfVectorizer\n",
    "\n",
    "from gensim.test.utils import common_texts\n",
    "from gensim.models import Word2Vec\n",
    "\n",
    "from spacy.lang.fr.stop_words import STOP_WORDS as fr_stop\n",
    "from spacy.lang.en.stop_words import STOP_WORDS as en_stop"
   ]
  },
  {
   "cell_type": "code",
   "execution_count": 5,
   "id": "653a7825-a8e9-4266-911d-7ac44edb0824",
   "metadata": {},
   "outputs": [
    {
     "data": {
      "text/html": [
       "<div>\n",
       "<style scoped>\n",
       "    .dataframe tbody tr th:only-of-type {\n",
       "        vertical-align: middle;\n",
       "    }\n",
       "\n",
       "    .dataframe tbody tr th {\n",
       "        vertical-align: top;\n",
       "    }\n",
       "\n",
       "    .dataframe thead th {\n",
       "        text-align: right;\n",
       "    }\n",
       "</style>\n",
       "<table border=\"1\" class=\"dataframe\">\n",
       "  <thead>\n",
       "    <tr style=\"text-align: right;\">\n",
       "      <th></th>\n",
       "      <th>report</th>\n",
       "      <th>emotion</th>\n",
       "    </tr>\n",
       "  </thead>\n",
       "  <tbody>\n",
       "    <tr>\n",
       "      <th>5835</th>\n",
       "      <td>[1997-07-27] I'm back at my old job again, the...</td>\n",
       "      <td>AN D</td>\n",
       "    </tr>\n",
       "    <tr>\n",
       "      <th>19460</th>\n",
       "      <td>My boyfriend Jeremy came in the room wearing a...</td>\n",
       "      <td>SD D</td>\n",
       "    </tr>\n",
       "    <tr>\n",
       "      <th>3677</th>\n",
       "      <td>I and some other women are in a room. I see wa...</td>\n",
       "      <td>AP D</td>\n",
       "    </tr>\n",
       "    <tr>\n",
       "      <th>15867</th>\n",
       "      <td>It kept going back and forwards between real l...</td>\n",
       "      <td>HA D</td>\n",
       "    </tr>\n",
       "    <tr>\n",
       "      <th>6094</th>\n",
       "      <td>I am walking down a New York City street. Day ...</td>\n",
       "      <td>AN D</td>\n",
       "    </tr>\n",
       "  </tbody>\n",
       "</table>\n",
       "</div>"
      ],
      "text/plain": [
       "                                                  report emotion\n",
       "5835   [1997-07-27] I'm back at my old job again, the...    AN D\n",
       "19460  My boyfriend Jeremy came in the room wearing a...    SD D\n",
       "3677   I and some other women are in a room. I see wa...    AP D\n",
       "15867  It kept going back and forwards between real l...    HA D\n",
       "6094   I am walking down a New York City street. Day ...    AN D"
      ]
     },
     "execution_count": 5,
     "metadata": {},
     "output_type": "execute_result"
    }
   ],
   "source": [
    "dataset = load_dataset(\"gustavecortal/DreamBank-annotated\")\n",
    "df = dataset[\"train\"].to_pandas()\n",
    "df = df.sample(frac = 1)\n",
    "df[\"report\"] = df[\"report\"].astype(str)\n",
    "df = df.query(\"emotion == 'CO D' or emotion == 'AN D' or emotion == 'SD D' or emotion == 'AP D' or emotion == 'HA D'\")[[\"report\", \"emotion\"]]\n",
    "df.head()"
   ]
  },
  {
   "cell_type": "code",
   "execution_count": 6,
   "id": "397de2e4-a050-4371-b4d1-c86e6c895d08",
   "metadata": {},
   "outputs": [
    {
     "data": {
      "text/html": [
       "<div>\n",
       "<style scoped>\n",
       "    .dataframe tbody tr th:only-of-type {\n",
       "        vertical-align: middle;\n",
       "    }\n",
       "\n",
       "    .dataframe tbody tr th {\n",
       "        vertical-align: top;\n",
       "    }\n",
       "\n",
       "    .dataframe thead th {\n",
       "        text-align: right;\n",
       "    }\n",
       "</style>\n",
       "<table border=\"1\" class=\"dataframe\">\n",
       "  <thead>\n",
       "    <tr style=\"text-align: right;\">\n",
       "      <th></th>\n",
       "      <th>report</th>\n",
       "      <th>emotion</th>\n",
       "    </tr>\n",
       "  </thead>\n",
       "  <tbody>\n",
       "    <tr>\n",
       "      <th>5835</th>\n",
       "      <td>[1997-07-27] i'm back at my old job again, the...</td>\n",
       "      <td>anger</td>\n",
       "    </tr>\n",
       "    <tr>\n",
       "      <th>19460</th>\n",
       "      <td>my boyfriend jeremy came in the room wearing a...</td>\n",
       "      <td>sadness</td>\n",
       "    </tr>\n",
       "    <tr>\n",
       "      <th>3677</th>\n",
       "      <td>i and some other women are in a room. i see wa...</td>\n",
       "      <td>fear</td>\n",
       "    </tr>\n",
       "    <tr>\n",
       "      <th>15867</th>\n",
       "      <td>it kept going back and forwards between real l...</td>\n",
       "      <td>happiness</td>\n",
       "    </tr>\n",
       "    <tr>\n",
       "      <th>6094</th>\n",
       "      <td>i am walking down a new york city street. day ...</td>\n",
       "      <td>anger</td>\n",
       "    </tr>\n",
       "  </tbody>\n",
       "</table>\n",
       "</div>"
      ],
      "text/plain": [
       "                                                  report    emotion\n",
       "5835   [1997-07-27] i'm back at my old job again, the...      anger\n",
       "19460  my boyfriend jeremy came in the room wearing a...    sadness\n",
       "3677   i and some other women are in a room. i see wa...       fear\n",
       "15867  it kept going back and forwards between real l...  happiness\n",
       "6094   i am walking down a new york city street. day ...      anger"
      ]
     },
     "execution_count": 6,
     "metadata": {},
     "output_type": "execute_result"
    }
   ],
   "source": [
    "def to_emotion_class(emotion):\n",
    "    \n",
    "    if emotion == \"AP D\":\n",
    "        return \"fear\"\n",
    "    elif emotion == \"CO D\":\n",
    "        return \"confusion\"\n",
    "    elif emotion == \"SD D\":\n",
    "        return \"sadness\"\n",
    "    elif emotion == \"AN D\":\n",
    "        return \"anger\"\n",
    "    else:\n",
    "        return \"happiness\"\n",
    "\n",
    "df[\"emotion\"] = df[\"emotion\"].apply(lambda x: to_emotion_class(x))\n",
    "df[\"report\"] = df[\"report\"].apply(lambda x: x.lower()) # simple preprocessing (lowercase only)\n",
    "df.head()"
   ]
  },
  {
   "cell_type": "code",
   "execution_count": 7,
   "id": "325820b1-3d44-4e4a-a08d-e6e42225a3e1",
   "metadata": {},
   "outputs": [],
   "source": [
    "X = df['report']\n",
    "y = df['emotion']"
   ]
  },
  {
   "cell_type": "code",
   "execution_count": 8,
   "id": "5f3e375f-eaaa-402e-9b0f-44c98a1bd162",
   "metadata": {},
   "outputs": [],
   "source": [
    "X_train, X_test, y_train, y_test = train_test_split(X, y, test_size=0.2, random_state=42)\n",
    "sample_weights = compute_sample_weight(class_weight='balanced', y=y_train)"
   ]
  },
  {
   "cell_type": "code",
   "execution_count": 9,
   "id": "33ab85ce-ee60-4c7e-bcb8-22f750b2fc5a",
   "metadata": {},
   "outputs": [],
   "source": [
    "def lemma_tokenize(doc):\n",
    "    wnl = WordNetLemmatizer()\n",
    "    return [wnl.lemmatize(t) for t in word_tokenize(doc)]\n",
    "\n",
    "def char_tokenize(doc):\n",
    "    return [char for char in doc]\n",
    "\n",
    "def byte_tokenize(doc):\n",
    "    tokens = doc.encode(\"utf-8\")\n",
    "    tokens = list(map(int, tokens))\n",
    "    return [str(token) for token in tokens]\n",
    "\n",
    "def gpt_tokenize(doc):\n",
    "    enc = tiktoken.encoding_for_model(\"gpt-4\")\n",
    "    tokens = enc.encode(doc)\n",
    "    return [str(token) for token in tokens]"
   ]
  },
  {
   "cell_type": "code",
   "execution_count": 10,
   "id": "6fe0601d-f4e3-4f68-a125-18880fcf612d",
   "metadata": {},
   "outputs": [],
   "source": [
    "model_L2 = make_pipeline(CountVectorizer(ngram_range = (1,1)), LogisticRegression(penalty='l2', solver='saga', max_iter=1000))\n",
    "model_L1 = make_pipeline(CountVectorizer(ngram_range = (1,1)), LogisticRegression(penalty='l1', solver='saga', max_iter=100))\n",
    "model_None = make_pipeline(CountVectorizer(ngram_range = (1,1)), LogisticRegression(penalty=None, solver='saga', max_iter=100))"
   ]
  },
  {
   "cell_type": "code",
   "execution_count": 11,
   "id": "948bf409-9fe5-4c75-a881-aaea4afb7427",
   "metadata": {},
   "outputs": [
    {
     "name": "stderr",
     "output_type": "stream",
     "text": [
      "/home/clovinux/venvs/lib/python3.11/site-packages/sklearn/linear_model/_sag.py:350: ConvergenceWarning: The max_iter was reached which means the coef_ did not converge\n",
      "  warnings.warn(\n",
      "/home/clovinux/venvs/lib/python3.11/site-packages/sklearn/linear_model/_sag.py:350: ConvergenceWarning: The max_iter was reached which means the coef_ did not converge\n",
      "  warnings.warn(\n",
      "/home/clovinux/venvs/lib/python3.11/site-packages/sklearn/linear_model/_sag.py:350: ConvergenceWarning: The max_iter was reached which means the coef_ did not converge\n",
      "  warnings.warn(\n"
     ]
    },
    {
     "name": "stdout",
     "output_type": "stream",
     "text": [
      "}>-===== L2 =====-<{\n",
      "Features dimension: (4520, 21374)\n",
      "Classification Report:\n",
      "               precision    recall  f1-score   support\n",
      "\n",
      "       anger       0.61      0.47      0.53       159\n",
      "   confusion       0.58      0.42      0.49       209\n",
      "        fear       0.58      0.86      0.69       434\n",
      "   happiness       0.62      0.48      0.55       225\n",
      "     sadness       0.46      0.13      0.20       103\n",
      "\n",
      "    accuracy                           0.58      1130\n",
      "   macro avg       0.57      0.47      0.49      1130\n",
      "weighted avg       0.58      0.58      0.56      1130\n",
      "\n",
      "}>-===== L1 =====-<{\n",
      "Features dimension: (4520, 21374)\n",
      "Classification Report:\n",
      "               precision    recall  f1-score   support\n",
      "\n",
      "       anger       0.60      0.48      0.53       159\n",
      "   confusion       0.60      0.43      0.50       209\n",
      "        fear       0.57      0.86      0.69       434\n",
      "   happiness       0.62      0.48      0.54       225\n",
      "     sadness       0.46      0.13      0.20       103\n",
      "\n",
      "    accuracy                           0.58      1130\n",
      "   macro avg       0.57      0.48      0.49      1130\n",
      "weighted avg       0.58      0.58      0.56      1130\n",
      "\n",
      "}>-===== None =====-<{\n",
      "Features dimension: (4520, 21374)\n",
      "Classification Report:\n",
      "               precision    recall  f1-score   support\n",
      "\n",
      "       anger       0.61      0.47      0.53       159\n",
      "   confusion       0.58      0.42      0.49       209\n",
      "        fear       0.58      0.86      0.69       434\n",
      "   happiness       0.63      0.48      0.55       225\n",
      "     sadness       0.46      0.13      0.20       103\n",
      "\n",
      "    accuracy                           0.58      1130\n",
      "   macro avg       0.57      0.47      0.49      1130\n",
      "weighted avg       0.58      0.58      0.56      1130\n",
      "\n"
     ]
    }
   ],
   "source": [
    "model_L2.fit(X_train, y_train)\n",
    "model_L1.fit(X_train, y_train)\n",
    "model_None.fit(X_train, y_train)\n",
    "#model_L2.fit(X_train, y_train, multinomialnb__sample_weight=sample_weights)\n",
    "\n",
    "y_pred_L2 = model_L2.predict(X_test)\n",
    "\n",
    "print(\"}>-===== L2 =====-<{\")\n",
    "print(f\"Features dimension: {len(X_train), len(model_L2[0].vocabulary_)}\")\n",
    "print(\"Classification Report:\\n\", classification_report(y_test, y_pred_L2))\n",
    "\n",
    "y_pred_L1 = model_L1.predict(X_test)\n",
    "\n",
    "print(\"}>-===== L1 =====-<{\")\n",
    "print(f\"Features dimension: {len(X_train), len(model_L1[0].vocabulary_)}\")\n",
    "print(\"Classification Report:\\n\", classification_report(y_test, y_pred_L1))\n",
    "\n",
    "y_pred_None = model_None.predict(X_test)\n",
    "\n",
    "print(\"}>-===== None =====-<{\")\n",
    "print(f\"Features dimension: {len(X_train), len(model_None[0].vocabulary_)}\")\n",
    "print(\"Classification Report:\\n\", classification_report(y_test, y_pred_None))"
   ]
  },
  {
   "cell_type": "code",
   "execution_count": 12,
   "id": "3ab42fe7-09f3-47bf-9e93-f9aefad706f8",
   "metadata": {},
   "outputs": [
    {
     "name": "stdout",
     "output_type": "stream",
     "text": [
      "Mean f1_macro: 0.47819854472901396\n",
      "Standard deviation f1_macro: 0.024487102856183055\n"
     ]
    },
    {
     "name": "stderr",
     "output_type": "stream",
     "text": [
      "/home/clovinux/venvs/lib/python3.11/site-packages/sklearn/linear_model/_sag.py:350: ConvergenceWarning: The max_iter was reached which means the coef_ did not converge\n",
      "  warnings.warn(\n",
      "/home/clovinux/venvs/lib/python3.11/site-packages/sklearn/linear_model/_sag.py:350: ConvergenceWarning: The max_iter was reached which means the coef_ did not converge\n",
      "  warnings.warn(\n",
      "/home/clovinux/venvs/lib/python3.11/site-packages/sklearn/linear_model/_sag.py:350: ConvergenceWarning: The max_iter was reached which means the coef_ did not converge\n",
      "  warnings.warn(\n",
      "/home/clovinux/venvs/lib/python3.11/site-packages/sklearn/linear_model/_sag.py:350: ConvergenceWarning: The max_iter was reached which means the coef_ did not converge\n",
      "  warnings.warn(\n",
      "/home/clovinux/venvs/lib/python3.11/site-packages/sklearn/linear_model/_sag.py:350: ConvergenceWarning: The max_iter was reached which means the coef_ did not converge\n",
      "  warnings.warn(\n"
     ]
    }
   ],
   "source": [
    "# Perform cross-validation and print the mean accuracy\n",
    "scoring = 'f1_macro'\n",
    "scores = cross_val_score(model_L2, X, y, cv=5, scoring=scoring, n_jobs = -1)\n",
    "print(f\"Mean {scoring}: {scores.mean()}\")\n",
    "print(f\"Standard deviation {scoring}: {scores.std()}\")"
   ]
  },
  {
   "cell_type": "code",
   "execution_count": 13,
   "id": "52f2bec0-5b9c-4a17-9fd3-7ed16f548367",
   "metadata": {},
   "outputs": [
    {
     "data": {
      "text/plain": [
       "'grid= {\\n    \"logisticregression__solver\":[\"saga\"],\\n    \"logisticregression__penalty\":[\"l1\",\"l2\", None],\\n    \"logisticregression__max_iter\":[100,150,200]\\n}\\n\\nlogreg=make_pipeline(CountVectorizer(ngram_range = (1,1)), LogisticRegression())\\n\\nlogreg_cv=GridSearchCV(logreg, n_jobs=1, param_grid=grid)\\n\\nlogreg_cv.fit(X_train,y_train)'"
      ]
     },
     "execution_count": 13,
     "metadata": {},
     "output_type": "execute_result"
    }
   ],
   "source": [
    "\"\"\"grid= {\n",
    "    \"logisticregression__solver\":[\"saga\"],\n",
    "    \"logisticregression__penalty\":[\"l1\",\"l2\", None],\n",
    "    \"logisticregression__max_iter\":[100,150,200]\n",
    "}\n",
    "\n",
    "logreg=make_pipeline(CountVectorizer(ngram_range = (1,1)), LogisticRegression())\n",
    "\n",
    "logreg_cv=GridSearchCV(logreg, n_jobs=1, param_grid=grid)\n",
    "\n",
    "logreg_cv.fit(X_train,y_train)\"\"\""
   ]
  },
  {
   "cell_type": "code",
   "execution_count": 14,
   "id": "8c2cad6d-5c62-4bfa-9e0b-1b5c5c378b97",
   "metadata": {},
   "outputs": [],
   "source": [
    "# logreg_cv.best_params_"
   ]
  },
  {
   "cell_type": "code",
   "execution_count": 15,
   "id": "8f30f5c7-6e59-41fb-a0cf-407cb2e742dd",
   "metadata": {},
   "outputs": [],
   "source": [
    "# logreg_cv.best_score_"
   ]
  },
  {
   "cell_type": "markdown",
   "id": "6e61395d-772f-40c1-ad6c-df95550ed0e8",
   "metadata": {},
   "source": [
    "# Word2Vec"
   ]
  },
  {
   "cell_type": "code",
   "execution_count": 39,
   "id": "0eb41d1f-b460-48b6-a6a7-d43407980287",
   "metadata": {},
   "outputs": [],
   "source": [
    "df['tokenized_report'] = df.apply(lambda row: word_tokenize(row['report']), axis=1)\n",
    "texts = df['tokenized_report'].values.tolist()\n",
    "model = Word2Vec(sentences=texts, vector_size=100, window=5, min_count=1, workers=4)\n",
    "#model.train([[\"hello\", \"world\"]], total_examples=1, epochs=1)"
   ]
  },
  {
   "cell_type": "code",
   "execution_count": 40,
   "id": "816c43ca-1a20-4e05-b5c1-b73f43895aa2",
   "metadata": {},
   "outputs": [
    {
     "data": {
      "text/plain": [
       "[('bed', 0.8157466053962708),\n",
       " ('bedroom', 0.7590041160583496),\n",
       " ('house', 0.7586585879325867),\n",
       " ('seat', 0.7580720782279968),\n",
       " ('truck', 0.7554482817649841),\n",
       " ('back', 0.7514362335205078),\n",
       " ('bathroom', 0.7390074729919434),\n",
       " ('bus', 0.7113147377967834),\n",
       " ('kitchen', 0.7026335000991821),\n",
       " ('van', 0.6943224668502808)]"
      ]
     },
     "execution_count": 40,
     "metadata": {},
     "output_type": "execute_result"
    }
   ],
   "source": [
    "model.wv.most_similar('car', topn=10)"
   ]
  },
  {
   "cell_type": "markdown",
   "id": "2b22834d-549c-4126-bf41-df8052305b91",
   "metadata": {},
   "source": [
    "# tf-idf + reg log"
   ]
  },
  {
   "cell_type": "code",
   "execution_count": null,
   "id": "4b29fae1-246f-4a8f-921f-e25b4d13235f",
   "metadata": {},
   "outputs": [],
   "source": [
    "def tfidf(words):\n",
    "    tfidf = TfidfVectorizer()\n",
    "    data = tfidf.fit_transform(words)\n",
    "    return tfidf, data\n",
    "\n",
    "tfidf_est, x_train_tfidf = tfidf(X_train.tolist())\n",
    "x_test_tfidf = tfidf_est.transform(X_test.tolist())\n",
    "\n",
    "lr_idf = LogisticRegression(penalty='l2', solver='saga', max_iter=1000)\n",
    "lr_idf.fit(x_train_tfidf, y_train)\n",
    "y_lr = lr_idf.predict(x_test_tfidf)\n",
    "print(classification_report(y_test, y_lr))"
   ]
  },
  {
   "cell_type": "markdown",
   "id": "ee9ebb24-029c-452a-b277-37129b1011f6",
   "metadata": {},
   "source": [
    "# w2v + reg log"
   ]
  },
  {
   "cell_type": "code",
   "execution_count": null,
   "id": "d9b689ea-ca0e-4d32-a8e1-37ecee79719c",
   "metadata": {},
   "outputs": [],
   "source": []
  }
 ],
 "metadata": {
  "kernelspec": {
   "display_name": "Python 3 (ipykernel)",
   "language": "python",
   "name": "python3"
  },
  "language_info": {
   "codemirror_mode": {
    "name": "ipython",
    "version": 3
   },
   "file_extension": ".py",
   "mimetype": "text/x-python",
   "name": "python",
   "nbconvert_exporter": "python",
   "pygments_lexer": "ipython3",
   "version": "3.11.8"
  }
 },
 "nbformat": 4,
 "nbformat_minor": 5
}

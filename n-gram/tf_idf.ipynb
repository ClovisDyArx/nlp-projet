{
  "cells": [
    {
      "cell_type": "code",
      "execution_count": 2,
      "metadata": {
        "colab": {
          "base_uri": "https://localhost:8080/"
        },
        "id": "MgR7g-V9ZZ6w",
        "outputId": "83885f36-f4c3-4249-e476-bbc9823c2198"
      },
      "outputs": [
        {
          "name": "stdout",
          "output_type": "stream",
          "text": [
            "Requirement already satisfied: pandas in c:\\python310\\lib\\site-packages (2.2.1)\n",
            "Requirement already satisfied: seaborn in c:\\python310\\lib\\site-packages (0.13.2)\n",
            "Requirement already satisfied: matplotlib in c:\\python310\\lib\\site-packages (3.8.3)\n",
            "Requirement already satisfied: scikit-learn in c:\\python310\\lib\\site-packages (1.4.1.post1)\n",
            "Requirement already satisfied: gensim in c:\\python310\\lib\\site-packages (4.3.2)\n",
            "Requirement already satisfied: eli5 in c:\\python310\\lib\\site-packages (0.13.0)\n",
            "Requirement already satisfied: tiktoken in c:\\python310\\lib\\site-packages (0.6.0)\n",
            "Requirement already satisfied: spacy in c:\\python310\\lib\\site-packages (3.7.4)\n",
            "Requirement already satisfied: wordcloud in c:\\python310\\lib\\site-packages (1.9.3)\n",
            "Requirement already satisfied: datasets in c:\\python310\\lib\\site-packages (2.18.0)\n",
            "Requirement already satisfied: python-dateutil>=2.8.2 in c:\\users\\hp\\appdata\\roaming\\python\\python310\\site-packages (from pandas) (2.9.0.post0)\n",
            "Requirement already satisfied: tzdata>=2022.7 in c:\\python310\\lib\\site-packages (from pandas) (2024.1)\n",
            "Requirement already satisfied: numpy<2,>=1.22.4 in c:\\python310\\lib\\site-packages (from pandas) (1.26.4)\n",
            "Requirement already satisfied: pytz>=2020.1 in c:\\python310\\lib\\site-packages (from pandas) (2024.1)\n",
            "Requirement already satisfied: pillow>=8 in c:\\python310\\lib\\site-packages (from matplotlib) (10.2.0)\n",
            "Requirement already satisfied: pyparsing>=2.3.1 in c:\\python310\\lib\\site-packages (from matplotlib) (3.1.2)\n",
            "Requirement already satisfied: contourpy>=1.0.1 in c:\\python310\\lib\\site-packages (from matplotlib) (1.2.0)\n",
            "Requirement already satisfied: fonttools>=4.22.0 in c:\\python310\\lib\\site-packages (from matplotlib) (4.49.0)\n",
            "Requirement already satisfied: kiwisolver>=1.3.1 in c:\\python310\\lib\\site-packages (from matplotlib) (1.4.5)\n",
            "Requirement already satisfied: packaging>=20.0 in c:\\users\\hp\\appdata\\roaming\\python\\python310\\site-packages (from matplotlib) (23.2)\n",
            "Requirement already satisfied: cycler>=0.10 in c:\\python310\\lib\\site-packages (from matplotlib) (0.12.1)\n",
            "Requirement already satisfied: scipy>=1.6.0 in c:\\python310\\lib\\site-packages (from scikit-learn) (1.12.0)\n",
            "Requirement already satisfied: joblib>=1.2.0 in c:\\python310\\lib\\site-packages (from scikit-learn) (1.3.2)\n",
            "Requirement already satisfied: threadpoolctl>=2.0.0 in c:\\python310\\lib\\site-packages (from scikit-learn) (3.3.0)\n",
            "Requirement already satisfied: smart-open>=1.8.1 in c:\\python310\\lib\\site-packages (from gensim) (6.4.0)\n",
            "Requirement already satisfied: attrs>17.1.0 in c:\\python310\\lib\\site-packages (from eli5) (23.2.0)\n",
            "Requirement already satisfied: jinja2>=3.0.0 in c:\\python310\\lib\\site-packages (from eli5) (3.1.3)\n",
            "Requirement already satisfied: six in c:\\users\\hp\\appdata\\roaming\\python\\python310\\site-packages (from eli5) (1.16.0)\n",
            "Requirement already satisfied: graphviz in c:\\python310\\lib\\site-packages (from eli5) (0.20.1)\n",
            "Requirement already satisfied: tabulate>=0.7.7 in c:\\python310\\lib\\site-packages (from eli5) (0.9.0)\n",
            "Requirement already satisfied: regex>=2022.1.18 in c:\\python310\\lib\\site-packages (from tiktoken) (2023.12.25)\n",
            "Requirement already satisfied: requests>=2.26.0 in c:\\python310\\lib\\site-packages (from tiktoken) (2.31.0)\n",
            "Requirement already satisfied: wasabi<1.2.0,>=0.9.1 in c:\\python310\\lib\\site-packages (from spacy) (1.1.2)\n",
            "Requirement already satisfied: spacy-loggers<2.0.0,>=1.0.0 in c:\\python310\\lib\\site-packages (from spacy) (1.0.5)\n",
            "Requirement already satisfied: murmurhash<1.1.0,>=0.28.0 in c:\\python310\\lib\\site-packages (from spacy) (1.0.10)\n",
            "Requirement already satisfied: pydantic!=1.8,!=1.8.1,<3.0.0,>=1.7.4 in c:\\python310\\lib\\site-packages (from spacy) (2.6.3)\n",
            "Requirement already satisfied: tqdm<5.0.0,>=4.38.0 in c:\\python310\\lib\\site-packages (from spacy) (4.66.2)\n",
            "Requirement already satisfied: thinc<8.3.0,>=8.2.2 in c:\\python310\\lib\\site-packages (from spacy) (8.2.3)\n",
            "Requirement already satisfied: preshed<3.1.0,>=3.0.2 in c:\\python310\\lib\\site-packages (from spacy) (3.0.9)\n",
            "Requirement already satisfied: spacy-legacy<3.1.0,>=3.0.11 in c:\\python310\\lib\\site-packages (from spacy) (3.0.12)\n",
            "Requirement already satisfied: srsly<3.0.0,>=2.4.3 in c:\\python310\\lib\\site-packages (from spacy) (2.4.8)\n",
            "Requirement already satisfied: typer<0.10.0,>=0.3.0 in c:\\python310\\lib\\site-packages (from spacy) (0.9.0)\n",
            "Requirement already satisfied: weasel<0.4.0,>=0.1.0 in c:\\python310\\lib\\site-packages (from spacy) (0.3.4)\n",
            "Requirement already satisfied: cymem<2.1.0,>=2.0.2 in c:\\python310\\lib\\site-packages (from spacy) (2.0.8)\n",
            "Requirement already satisfied: langcodes<4.0.0,>=3.2.0 in c:\\python310\\lib\\site-packages (from spacy) (3.3.0)\n",
            "Requirement already satisfied: setuptools in c:\\python310\\lib\\site-packages (from spacy) (69.2.0)\n",
            "Requirement already satisfied: catalogue<2.1.0,>=2.0.6 in c:\\python310\\lib\\site-packages (from spacy) (2.0.10)\n",
            "Requirement already satisfied: dill<0.3.9,>=0.3.0 in c:\\python310\\lib\\site-packages (from datasets) (0.3.8)\n",
            "Requirement already satisfied: pyyaml>=5.1 in c:\\python310\\lib\\site-packages (from datasets) (6.0.1)\n",
            "Requirement already satisfied: fsspec[http]<=2024.2.0,>=2023.1.0 in c:\\python310\\lib\\site-packages (from datasets) (2024.2.0)\n",
            "Requirement already satisfied: multiprocess in c:\\python310\\lib\\site-packages (from datasets) (0.70.16)\n",
            "Requirement already satisfied: pyarrow>=12.0.0 in c:\\python310\\lib\\site-packages (from datasets) (15.0.0)\n",
            "Requirement already satisfied: filelock in c:\\python310\\lib\\site-packages (from datasets) (3.13.1)\n",
            "Requirement already satisfied: aiohttp in c:\\python310\\lib\\site-packages (from datasets) (3.9.3)\n",
            "Requirement already satisfied: pyarrow-hotfix in c:\\python310\\lib\\site-packages (from datasets) (0.6)\n",
            "Requirement already satisfied: xxhash in c:\\python310\\lib\\site-packages (from datasets) (3.4.1)\n",
            "Requirement already satisfied: huggingface-hub>=0.19.4 in c:\\python310\\lib\\site-packages (from datasets) (0.21.3)\n",
            "Requirement already satisfied: yarl<2.0,>=1.0 in c:\\python310\\lib\\site-packages (from aiohttp->datasets) (1.9.4)\n",
            "Requirement already satisfied: async-timeout<5.0,>=4.0 in c:\\python310\\lib\\site-packages (from aiohttp->datasets) (4.0.3)\n",
            "Requirement already satisfied: frozenlist>=1.1.1 in c:\\python310\\lib\\site-packages (from aiohttp->datasets) (1.4.1)\n",
            "Requirement already satisfied: multidict<7.0,>=4.5 in c:\\python310\\lib\\site-packages (from aiohttp->datasets) (6.0.5)\n",
            "Requirement already satisfied: aiosignal>=1.1.2 in c:\\python310\\lib\\site-packages (from aiohttp->datasets) (1.3.1)\n",
            "Requirement already satisfied: typing-extensions>=3.7.4.3 in c:\\python310\\lib\\site-packages (from huggingface-hub>=0.19.4->datasets) (4.10.0)\n",
            "Requirement already satisfied: MarkupSafe>=2.0 in c:\\python310\\lib\\site-packages (from jinja2>=3.0.0->eli5) (2.1.5)\n",
            "Requirement already satisfied: annotated-types>=0.4.0 in c:\\python310\\lib\\site-packages (from pydantic!=1.8,!=1.8.1,<3.0.0,>=1.7.4->spacy) (0.6.0)\n",
            "Requirement already satisfied: pydantic-core==2.16.3 in c:\\python310\\lib\\site-packages (from pydantic!=1.8,!=1.8.1,<3.0.0,>=1.7.4->spacy) (2.16.3)\n",
            "Requirement already satisfied: certifi>=2017.4.17 in c:\\python310\\lib\\site-packages (from requests>=2.26.0->tiktoken) (2024.2.2)\n",
            "Requirement already satisfied: idna<4,>=2.5 in c:\\python310\\lib\\site-packages (from requests>=2.26.0->tiktoken) (3.6)\n",
            "Requirement already satisfied: charset-normalizer<4,>=2 in c:\\python310\\lib\\site-packages (from requests>=2.26.0->tiktoken) (3.3.2)\n",
            "Requirement already satisfied: urllib3<3,>=1.21.1 in c:\\python310\\lib\\site-packages (from requests>=2.26.0->tiktoken) (2.2.1)\n",
            "Requirement already satisfied: blis<0.8.0,>=0.7.8 in c:\\python310\\lib\\site-packages (from thinc<8.3.0,>=8.2.2->spacy) (0.7.11)\n",
            "Requirement already satisfied: confection<1.0.0,>=0.0.1 in c:\\python310\\lib\\site-packages (from thinc<8.3.0,>=8.2.2->spacy) (0.1.4)\n",
            "Requirement already satisfied: colorama in c:\\users\\hp\\appdata\\roaming\\python\\python310\\site-packages (from tqdm<5.0.0,>=4.38.0->spacy) (0.4.6)\n",
            "Requirement already satisfied: click<9.0.0,>=7.1.1 in c:\\python310\\lib\\site-packages (from typer<0.10.0,>=0.3.0->spacy) (8.1.7)\n",
            "Requirement already satisfied: cloudpathlib<0.17.0,>=0.7.0 in c:\\python310\\lib\\site-packages (from weasel<0.4.0,>=0.1.0->spacy) (0.16.0)\n"
          ]
        },
        {
          "name": "stderr",
          "output_type": "stream",
          "text": [
            "WARNING: You are using pip version 22.0.4; however, version 24.0 is available.\n",
            "You should consider upgrading via the 'C:\\Python310\\python.exe -m pip install --upgrade pip' command.\n"
          ]
        }
      ],
      "source": [
        "!pip install pandas seaborn matplotlib scikit-learn gensim eli5 tiktoken spacy gensim wordcloud datasets"
      ]
    },
    {
      "cell_type": "code",
      "execution_count": 3,
      "metadata": {
        "colab": {
          "base_uri": "https://localhost:8080/"
        },
        "id": "l2yijfXoZZ6y",
        "outputId": "08431947-1628-4169-bef3-f78cd7859a10"
      },
      "outputs": [
        {
          "name": "stderr",
          "output_type": "stream",
          "text": [
            "c:\\Python310\\lib\\site-packages\\tqdm\\auto.py:21: TqdmWarning: IProgress not found. Please update jupyter and ipywidgets. See https://ipywidgets.readthedocs.io/en/stable/user_install.html\n",
            "  from .autonotebook import tqdm as notebook_tqdm\n",
            "[nltk_data] Downloading package stopwords to\n",
            "[nltk_data]     C:\\Users\\hp\\AppData\\Roaming\\nltk_data...\n",
            "[nltk_data]   Package stopwords is already up-to-date!\n",
            "[nltk_data] Downloading package wordnet to\n",
            "[nltk_data]     C:\\Users\\hp\\AppData\\Roaming\\nltk_data...\n",
            "[nltk_data]   Package wordnet is already up-to-date!\n",
            "[nltk_data] Downloading package punkt to\n",
            "[nltk_data]     C:\\Users\\hp\\AppData\\Roaming\\nltk_data...\n",
            "[nltk_data]   Package punkt is already up-to-date!\n"
          ]
        },
        {
          "data": {
            "text/plain": [
              "True"
            ]
          },
          "execution_count": 3,
          "metadata": {},
          "output_type": "execute_result"
        }
      ],
      "source": [
        "import tiktoken\n",
        "import pandas as pd\n",
        "import numpy as np\n",
        "import nltk\n",
        "\n",
        "import matplotlib.pyplot as plt\n",
        "from datasets import load_dataset\n",
        "from gensim.models import Word2Vec, KeyedVectors\n",
        "from sklearn.model_selection import train_test_split, GridSearchCV\n",
        "from sklearn.utils.class_weight import compute_sample_weight\n",
        "from nltk import word_tokenize, sent_tokenize\n",
        "from sklearn.linear_model import LogisticRegression\n",
        "from sklearn.pipeline import make_pipeline\n",
        "from sklearn.feature_extraction.text import CountVectorizer, TfidfVectorizer, TfidfTransformer\n",
        "from sklearn.metrics import classification_report, accuracy_score, ConfusionMatrixDisplay, confusion_matrix\n",
        "\n",
        "nltk.download('stopwords')\n",
        "nltk.download('wordnet')\n",
        "nltk.download('punkt')"
      ]
    },
    {
      "cell_type": "markdown",
      "metadata": {
        "collapsed": false,
        "id": "vhRzlHUuZZ6z"
      },
      "source": [
        "## Dataset loading"
      ]
    },
    {
      "cell_type": "code",
      "execution_count": 4,
      "metadata": {
        "colab": {
          "base_uri": "https://localhost:8080/",
          "height": 310
        },
        "id": "v_DEcLikZZ61",
        "outputId": "6b8fd175-299e-4fa6-9035-c508f6286efb"
      },
      "outputs": [
        {
          "data": {
            "text/html": [
              "<div>\n",
              "<style scoped>\n",
              "    .dataframe tbody tr th:only-of-type {\n",
              "        vertical-align: middle;\n",
              "    }\n",
              "\n",
              "    .dataframe tbody tr th {\n",
              "        vertical-align: top;\n",
              "    }\n",
              "\n",
              "    .dataframe thead th {\n",
              "        text-align: right;\n",
              "    }\n",
              "</style>\n",
              "<table border=\"1\" class=\"dataframe\">\n",
              "  <thead>\n",
              "    <tr style=\"text-align: right;\">\n",
              "      <th></th>\n",
              "      <th>text</th>\n",
              "      <th>label</th>\n",
              "      <th>src</th>\n",
              "    </tr>\n",
              "  </thead>\n",
              "  <tbody>\n",
              "    <tr>\n",
              "      <th>0</th>\n",
              "      <td>White girls very rarely date Asian men. Even i...</td>\n",
              "      <td>1</td>\n",
              "      <td>cmv_human</td>\n",
              "    </tr>\n",
              "    <tr>\n",
              "      <th>1</th>\n",
              "      <td>I am a 23 year old male Indian American male. ...</td>\n",
              "      <td>1</td>\n",
              "      <td>cmv_human</td>\n",
              "    </tr>\n",
              "    <tr>\n",
              "      <th>2</th>\n",
              "      <td>Take three people, Persons A, B, and C. They l...</td>\n",
              "      <td>1</td>\n",
              "      <td>cmv_human</td>\n",
              "    </tr>\n",
              "    <tr>\n",
              "      <th>3</th>\n",
              "      <td>(A) Work part-time in high school; Then go to ...</td>\n",
              "      <td>1</td>\n",
              "      <td>cmv_human</td>\n",
              "    </tr>\n",
              "    <tr>\n",
              "      <th>4</th>\n",
              "      <td>When police introduce a new form of speed prev...</td>\n",
              "      <td>1</td>\n",
              "      <td>cmv_human</td>\n",
              "    </tr>\n",
              "  </tbody>\n",
              "</table>\n",
              "</div>"
            ],
            "text/plain": [
              "                                                text  label        src\n",
              "0  White girls very rarely date Asian men. Even i...      1  cmv_human\n",
              "1  I am a 23 year old male Indian American male. ...      1  cmv_human\n",
              "2  Take three people, Persons A, B, and C. They l...      1  cmv_human\n",
              "3  (A) Work part-time in high school; Then go to ...      1  cmv_human\n",
              "4  When police introduce a new form of speed prev...      1  cmv_human"
            ]
          },
          "execution_count": 4,
          "metadata": {},
          "output_type": "execute_result"
        }
      ],
      "source": [
        "dataset = load_dataset(\"yaful/DeepfakeTextDetect\")\n",
        "\n",
        "# Load the train dataset\n",
        "df = dataset[\"train\"].to_pandas()\n",
        "df.head()"
      ]
    },
    {
      "cell_type": "code",
      "execution_count": 5,
      "metadata": {
        "colab": {
          "base_uri": "https://localhost:8080/",
          "height": 408
        },
        "id": "hmkyKgfhZZ62",
        "outputId": "f2b945db-adaf-4a4f-e1ea-a2ed73b88beb"
      },
      "outputs": [
        {
          "data": {
            "text/plain": [
              "Text(0.5, 1.0, 'Data Distribution')"
            ]
          },
          "execution_count": 5,
          "metadata": {},
          "output_type": "execute_result"
        },
        {
          "data": {
            "image/png": "[encoded data removed]",
            "text/plain": [
              "<Figure size 800x400 with 1 Axes>"
            ]
          },
          "metadata": {},
          "output_type": "display_data"
        }
      ],
      "source": [
        "val_count = df.label.value_counts()\n",
        "\n",
        "plt.figure(figsize=(8,4))\n",
        "plt.bar(val_count.index, val_count.values)\n",
        "plt.title(\"Data Distribution\")"
      ]
    },
    {
      "cell_type": "markdown",
      "metadata": {
        "collapsed": false,
        "id": "aXbPXnj6VJPN"
      },
      "source": [
        "## Preprocessing"
      ]
    },
    {
      "cell_type": "code",
      "execution_count": 6,
      "metadata": {
        "id": "Ap0smXcyVJPO"
      },
      "outputs": [],
      "source": [
        "def preprocess_text(text):\n",
        "    # Text to lowercase\n",
        "    text = text.lower()\n",
        "\n",
        "    list_text = text.split()\n",
        "\n",
        "    # Remove stopwords\n",
        "    list_stopwords = set(nltk.corpus.stopwords.words(\"english\"))\n",
        "    list_text = [word for word in list_text if word not in list_stopwords]\n",
        "\n",
        "    # Lemmetize\n",
        "    lem = nltk.stem.wordnet.WordNetLemmatizer()\n",
        "    list_text = [lem.lemmatize(word) for word in list_text]\n",
        "\n",
        "    text = \" \".join(list_text)\n",
        "    return text"
      ]
    },
    {
      "cell_type": "markdown",
      "metadata": {
        "id": "rKgNT9eXZZ62"
      },
      "source": []
    },
    {
      "cell_type": "code",
      "execution_count": 7,
      "metadata": {
        "id": "3kTbkf-gZZ65"
      },
      "outputs": [],
      "source": [
        "# Check if df.pkl exists\n",
        "try:\n",
        "    df = pd.read_pickle(\"df.pkl\")\n",
        "except:\n",
        "    df[\"text_preprocess\"] = df[\"text\"].apply(lambda x: preprocess_text(x))\n",
        "    df.to_pickle(\"df.pkl\")"
      ]
    },
    {
      "cell_type": "code",
      "execution_count": 8,
      "metadata": {
        "id": "YBBvCqJbVJPP"
      },
      "outputs": [],
      "source": [
        "# Save time when retry new model\n",
        "if \"df\" not in locals():\n",
        "    df = pd.read_pickle(\"df.pkl\")"
      ]
    },
    {
      "cell_type": "markdown",
      "metadata": {
        "collapsed": false,
        "id": "PgTnxVlDVJPQ"
      },
      "source": [
        "## Training a classifier"
      ]
    },
    {
      "cell_type": "code",
      "execution_count": 9,
      "metadata": {
        "id": "zFFBHuu0VJPQ"
      },
      "outputs": [],
      "source": [
        "def document_vector(doc, wv):\n",
        "    \"\"\"Create document vectors by averaging word vectors.\"\"\"\n",
        "    words = word_tokenize(doc)\n",
        "    word_vectors = np.array([wv[word] for word in words if word in wv])\n",
        "\n",
        "    if len(word_vectors) == 0:\n",
        "        return np.zeros(wv.vector_size)\n",
        "    return np.mean(word_vectors, axis=0)"
      ]
    },
    {
      "cell_type": "code",
      "execution_count": 10,
      "metadata": {
        "colab": {
          "base_uri": "https://localhost:8080/"
        },
        "id": "l4e612jUZZ65",
        "outputId": "dff40393-15b1-42fd-94ca-71f1e93d1842"
      },
      "outputs": [
        {
          "name": "stdout",
          "output_type": "stream",
          "text": [
            "Features dimension: (255256,)\n"
          ]
        }
      ],
      "source": [
        "X = df[\"text_preprocess\"]\n",
        "y = df[\"label\"]\n",
        "\n",
        "X_train, X_test, y_train, y_test = train_test_split(X, y, test_size=0.2, random_state=42)\n",
        "sample_weights = compute_sample_weight(class_weight='balanced', y=y_train)\n",
        "print(f\"Features dimension: {X_train.shape}\")"
      ]
    },
    {
      "cell_type": "code",
      "execution_count": 11,
      "metadata": {},
      "outputs": [],
      "source": [
        "classifier = make_pipeline(TfidfVectorizer(max_features=10000, ngram_range=(1,1), lowercase=False), TfidfTransformer(), LogisticRegression(random_state=42, class_weight='balanced', penalty = 'l2', max_iter = 1000))"
      ]
    },
    {
      "cell_type": "code",
      "execution_count": 12,
      "metadata": {},
      "outputs": [
        {
          "name": "stdout",
          "output_type": "stream",
          "text": [
            "Classification Report:\n",
            "               precision    recall  f1-score   support\n",
            "\n",
            "           0       0.89      0.80      0.84     45073\n",
            "           1       0.61      0.76      0.67     18742\n",
            "\n",
            "    accuracy                           0.79     63815\n",
            "   macro avg       0.75      0.78      0.76     63815\n",
            "weighted avg       0.81      0.79      0.79     63815\n",
            "\n"
          ]
        }
      ],
      "source": [
        "classifier.fit(X_train, y_train)\n",
        "\n",
        "y_pred = classifier.predict(X_test)\n",
        "\n",
        "print(\"Classification Report:\\n\", classification_report(y_test, y_pred))"
      ]
    },
    {
      "cell_type": "code",
      "execution_count": 13,
      "metadata": {},
      "outputs": [],
      "source": [
        "classifier = make_pipeline(TfidfVectorizer(max_features=10000, ngram_range=(2,2), lowercase=False), TfidfTransformer(), LogisticRegression(random_state=42, class_weight='balanced', penalty = 'l2', max_iter = 1000))"
      ]
    },
    {
      "cell_type": "code",
      "execution_count": 14,
      "metadata": {},
      "outputs": [
        {
          "name": "stdout",
          "output_type": "stream",
          "text": [
            "Classification Report:\n",
            "               precision    recall  f1-score   support\n",
            "\n",
            "           0       0.86      0.71      0.78     45073\n",
            "           1       0.51      0.73      0.60     18742\n",
            "\n",
            "    accuracy                           0.71     63815\n",
            "   macro avg       0.69      0.72      0.69     63815\n",
            "weighted avg       0.76      0.71      0.73     63815\n",
            "\n"
          ]
        }
      ],
      "source": [
        "classifier.fit(X_train, y_train)\n",
        "\n",
        "y_pred = classifier.predict(X_test)\n",
        "\n",
        "print(\"Classification Report:\\n\", classification_report(y_test, y_pred))"
      ]
    },
    {
      "cell_type": "code",
      "execution_count": 15,
      "metadata": {
        "id": "QdaFAV53ZZ67"
      },
      "outputs": [],
      "source": [
        "classifier = make_pipeline(TfidfVectorizer(max_features=10000, ngram_range=(3,3), lowercase=False), TfidfTransformer(), LogisticRegression(random_state=42, class_weight='balanced', penalty = 'l2', max_iter = 1000))"
      ]
    },
    {
      "cell_type": "code",
      "execution_count": 11,
      "metadata": {
        "colab": {
          "base_uri": "https://localhost:8080/"
        },
        "id": "br9gcUcgVJPS",
        "outputId": "fcd0cfa6-fa5e-46d8-8fd1-0c4957abae71"
      },
      "outputs": [
        {
          "name": "stdout",
          "output_type": "stream",
          "text": [
            "Classification Report:\n",
            "               precision    recall  f1-score   support\n",
            "\n",
            "           0       0.88      0.47      0.61     45073\n",
            "           1       0.40      0.85      0.54     18742\n",
            "\n",
            "    accuracy                           0.58     63815\n",
            "   macro avg       0.64      0.66      0.58     63815\n",
            "weighted avg       0.74      0.58      0.59     63815\n",
            "\n"
          ]
        }
      ],
      "source": [
        "classifier.fit(X_train, y_train)\n",
        "\n",
        "y_pred = classifier.predict(X_test)\n",
        "\n",
        "print(\"Classification Report:\\n\", classification_report(y_test, y_pred))"
      ]
    },
    {
      "cell_type": "markdown",
      "metadata": {
        "id": "OKIyWWsjiGKo"
      },
      "source": [
        "## Plot confusion matrix"
      ]
    },
    {
      "cell_type": "code",
      "execution_count": 12,
      "metadata": {
        "colab": {
          "base_uri": "https://localhost:8080/",
          "height": 449
        },
        "id": "EBIdLMLMiLBN",
        "outputId": "d17dec1d-8ba6-4ae2-949e-29c5aca4b611"
      },
      "outputs": [
        {
          "data": {
            "image/png": "[encoded data removed]",
            "text/plain": [
              "<Figure size 640x480 with 2 Axes>"
            ]
          },
          "metadata": {},
          "output_type": "display_data"
        }
      ],
      "source": [
        "cm = confusion_matrix(y_test, y_pred, labels=[0,1])\n",
        "disp = ConfusionMatrixDisplay(confusion_matrix=cm,\n",
        "                               display_labels=[0,1])\n",
        "disp.plot()\n",
        "plt.show()"
      ]
    },
    {
      "cell_type": "code",
      "execution_count": null,
      "metadata": {},
      "outputs": [],
      "source": []
    },
    {
      "cell_type": "markdown",
      "metadata": {
        "id": "wR8aK-9TigMG"
      },
      "source": []
    }
  ],
  "metadata": {
    "colab": {
      "gpuType": "T4",
      "provenance": []
    },
    "kernelspec": {
      "display_name": "Python 3 (ipykernel)",
      "language": "python",
      "name": "python3"
    },
    "language_info": {
      "codemirror_mode": {
        "name": "ipython",
        "version": 3
      },
      "file_extension": ".py",
      "mimetype": "text/x-python",
      "name": "python",
      "nbconvert_exporter": "python",
      "pygments_lexer": "ipython3",
      "version": "3.10.4"
    }
  },
  "nbformat": 4,
  "nbformat_minor": 0
}

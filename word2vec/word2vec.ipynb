{
 "cells": [
  {
   "cell_type": "code",
   "outputs": [
    {
     "name": "stdout",
     "output_type": "stream",
     "text": [
      "Requirement already satisfied: pandas in /home/florinekieraga/.virtualenvs/nlp-projet/lib/python3.10/site-packages (2.2.2)\r\n",
      "Requirement already satisfied: seaborn in /home/florinekieraga/.virtualenvs/nlp-projet/lib/python3.10/site-packages (0.13.2)\r\n",
      "Requirement already satisfied: matplotlib in /home/florinekieraga/.virtualenvs/nlp-projet/lib/python3.10/site-packages (3.8.4)\r\n",
      "Requirement already satisfied: scikit-learn in /home/florinekieraga/.virtualenvs/nlp-projet/lib/python3.10/site-packages (1.4.2)\r\n",
      "Requirement already satisfied: gensim in /home/florinekieraga/.virtualenvs/nlp-projet/lib/python3.10/site-packages (4.3.2)\r\n",
      "Requirement already satisfied: eli5 in /home/florinekieraga/.virtualenvs/nlp-projet/lib/python3.10/site-packages (0.13.0)\r\n",
      "Requirement already satisfied: tiktoken in /home/florinekieraga/.virtualenvs/nlp-projet/lib/python3.10/site-packages (0.6.0)\r\n",
      "Requirement already satisfied: spacy in /home/florinekieraga/.virtualenvs/nlp-projet/lib/python3.10/site-packages (3.7.4)\r\n",
      "Requirement already satisfied: numpy>=1.22.4 in /home/florinekieraga/.virtualenvs/nlp-projet/lib/python3.10/site-packages (from pandas) (1.26.4)\r\n",
      "Requirement already satisfied: python-dateutil>=2.8.2 in /home/florinekieraga/.virtualenvs/nlp-projet/lib/python3.10/site-packages (from pandas) (2.9.0.post0)\r\n",
      "Requirement already satisfied: pytz>=2020.1 in /home/florinekieraga/.virtualenvs/nlp-projet/lib/python3.10/site-packages (from pandas) (2024.1)\r\n",
      "Requirement already satisfied: tzdata>=2022.7 in /home/florinekieraga/.virtualenvs/nlp-projet/lib/python3.10/site-packages (from pandas) (2024.1)\r\n",
      "Requirement already satisfied: contourpy>=1.0.1 in /home/florinekieraga/.virtualenvs/nlp-projet/lib/python3.10/site-packages (from matplotlib) (1.2.1)\r\n",
      "Requirement already satisfied: cycler>=0.10 in /home/florinekieraga/.virtualenvs/nlp-projet/lib/python3.10/site-packages (from matplotlib) (0.12.1)\r\n",
      "Requirement already satisfied: fonttools>=4.22.0 in /home/florinekieraga/.virtualenvs/nlp-projet/lib/python3.10/site-packages (from matplotlib) (4.51.0)\r\n",
      "Requirement already satisfied: kiwisolver>=1.3.1 in /home/florinekieraga/.virtualenvs/nlp-projet/lib/python3.10/site-packages (from matplotlib) (1.4.5)\r\n",
      "Requirement already satisfied: packaging>=20.0 in /home/florinekieraga/.virtualenvs/nlp-projet/lib/python3.10/site-packages (from matplotlib) (24.0)\r\n",
      "Requirement already satisfied: pillow>=8 in /home/florinekieraga/.virtualenvs/nlp-projet/lib/python3.10/site-packages (from matplotlib) (10.3.0)\r\n",
      "Requirement already satisfied: pyparsing>=2.3.1 in /home/florinekieraga/.virtualenvs/nlp-projet/lib/python3.10/site-packages (from matplotlib) (3.1.2)\r\n",
      "Requirement already satisfied: scipy>=1.6.0 in /home/florinekieraga/.virtualenvs/nlp-projet/lib/python3.10/site-packages (from scikit-learn) (1.13.0)\r\n",
      "Requirement already satisfied: joblib>=1.2.0 in /home/florinekieraga/.virtualenvs/nlp-projet/lib/python3.10/site-packages (from scikit-learn) (1.4.0)\r\n",
      "Requirement already satisfied: threadpoolctl>=2.0.0 in /home/florinekieraga/.virtualenvs/nlp-projet/lib/python3.10/site-packages (from scikit-learn) (3.4.0)\r\n",
      "Requirement already satisfied: smart-open>=1.8.1 in /home/florinekieraga/.virtualenvs/nlp-projet/lib/python3.10/site-packages (from gensim) (6.4.0)\r\n",
      "Requirement already satisfied: attrs>17.1.0 in /home/florinekieraga/.virtualenvs/nlp-projet/lib/python3.10/site-packages (from eli5) (23.2.0)\r\n",
      "Requirement already satisfied: jinja2>=3.0.0 in /home/florinekieraga/.virtualenvs/nlp-projet/lib/python3.10/site-packages (from eli5) (3.1.3)\r\n",
      "Requirement already satisfied: six in /home/florinekieraga/.virtualenvs/nlp-projet/lib/python3.10/site-packages (from eli5) (1.16.0)\r\n",
      "Requirement already satisfied: graphviz in /home/florinekieraga/.virtualenvs/nlp-projet/lib/python3.10/site-packages (from eli5) (0.20.3)\r\n",
      "Requirement already satisfied: tabulate>=0.7.7 in /home/florinekieraga/.virtualenvs/nlp-projet/lib/python3.10/site-packages (from eli5) (0.9.0)\r\n",
      "Requirement already satisfied: regex>=2022.1.18 in /home/florinekieraga/.virtualenvs/nlp-projet/lib/python3.10/site-packages (from tiktoken) (2024.4.16)\r\n",
      "Requirement already satisfied: requests>=2.26.0 in /home/florinekieraga/.virtualenvs/nlp-projet/lib/python3.10/site-packages (from tiktoken) (2.31.0)\r\n",
      "Requirement already satisfied: spacy-legacy<3.1.0,>=3.0.11 in /home/florinekieraga/.virtualenvs/nlp-projet/lib/python3.10/site-packages (from spacy) (3.0.12)\r\n",
      "Requirement already satisfied: spacy-loggers<2.0.0,>=1.0.0 in /home/florinekieraga/.virtualenvs/nlp-projet/lib/python3.10/site-packages (from spacy) (1.0.5)\r\n",
      "Requirement already satisfied: murmurhash<1.1.0,>=0.28.0 in /home/florinekieraga/.virtualenvs/nlp-projet/lib/python3.10/site-packages (from spacy) (1.0.10)\r\n",
      "Requirement already satisfied: cymem<2.1.0,>=2.0.2 in /home/florinekieraga/.virtualenvs/nlp-projet/lib/python3.10/site-packages (from spacy) (2.0.8)\r\n",
      "Requirement already satisfied: preshed<3.1.0,>=3.0.2 in /home/florinekieraga/.virtualenvs/nlp-projet/lib/python3.10/site-packages (from spacy) (3.0.9)\r\n",
      "Requirement already satisfied: thinc<8.3.0,>=8.2.2 in /home/florinekieraga/.virtualenvs/nlp-projet/lib/python3.10/site-packages (from spacy) (8.2.3)\r\n",
      "Requirement already satisfied: wasabi<1.2.0,>=0.9.1 in /home/florinekieraga/.virtualenvs/nlp-projet/lib/python3.10/site-packages (from spacy) (1.1.2)\r\n",
      "Requirement already satisfied: srsly<3.0.0,>=2.4.3 in /home/florinekieraga/.virtualenvs/nlp-projet/lib/python3.10/site-packages (from spacy) (2.4.8)\r\n",
      "Requirement already satisfied: catalogue<2.1.0,>=2.0.6 in /home/florinekieraga/.virtualenvs/nlp-projet/lib/python3.10/site-packages (from spacy) (2.0.10)\r\n",
      "Requirement already satisfied: weasel<0.4.0,>=0.1.0 in /home/florinekieraga/.virtualenvs/nlp-projet/lib/python3.10/site-packages (from spacy) (0.3.4)\r\n",
      "Requirement already satisfied: typer<0.10.0,>=0.3.0 in /home/florinekieraga/.virtualenvs/nlp-projet/lib/python3.10/site-packages (from spacy) (0.9.4)\r\n",
      "Requirement already satisfied: tqdm<5.0.0,>=4.38.0 in /home/florinekieraga/.virtualenvs/nlp-projet/lib/python3.10/site-packages (from spacy) (4.66.2)\r\n",
      "Requirement already satisfied: pydantic!=1.8,!=1.8.1,<3.0.0,>=1.7.4 in /home/florinekieraga/.virtualenvs/nlp-projet/lib/python3.10/site-packages (from spacy) (2.7.0)\r\n",
      "Requirement already satisfied: setuptools in /home/florinekieraga/.virtualenvs/nlp-projet/lib/python3.10/site-packages (from spacy) (69.2.0)\r\n",
      "Requirement already satisfied: langcodes<4.0.0,>=3.2.0 in /home/florinekieraga/.virtualenvs/nlp-projet/lib/python3.10/site-packages (from spacy) (3.3.0)\r\n",
      "Requirement already satisfied: MarkupSafe>=2.0 in /home/florinekieraga/.virtualenvs/nlp-projet/lib/python3.10/site-packages (from jinja2>=3.0.0->eli5) (2.1.5)\r\n",
      "Requirement already satisfied: annotated-types>=0.4.0 in /home/florinekieraga/.virtualenvs/nlp-projet/lib/python3.10/site-packages (from pydantic!=1.8,!=1.8.1,<3.0.0,>=1.7.4->spacy) (0.6.0)\r\n",
      "Requirement already satisfied: pydantic-core==2.18.1 in /home/florinekieraga/.virtualenvs/nlp-projet/lib/python3.10/site-packages (from pydantic!=1.8,!=1.8.1,<3.0.0,>=1.7.4->spacy) (2.18.1)\r\n",
      "Requirement already satisfied: typing-extensions>=4.6.1 in /home/florinekieraga/.virtualenvs/nlp-projet/lib/python3.10/site-packages (from pydantic!=1.8,!=1.8.1,<3.0.0,>=1.7.4->spacy) (4.11.0)\r\n",
      "Requirement already satisfied: charset-normalizer<4,>=2 in /home/florinekieraga/.virtualenvs/nlp-projet/lib/python3.10/site-packages (from requests>=2.26.0->tiktoken) (3.3.2)\r\n",
      "Requirement already satisfied: idna<4,>=2.5 in /home/florinekieraga/.virtualenvs/nlp-projet/lib/python3.10/site-packages (from requests>=2.26.0->tiktoken) (3.7)\r\n",
      "Requirement already satisfied: urllib3<3,>=1.21.1 in /home/florinekieraga/.virtualenvs/nlp-projet/lib/python3.10/site-packages (from requests>=2.26.0->tiktoken) (2.2.1)\r\n",
      "Requirement already satisfied: certifi>=2017.4.17 in /home/florinekieraga/.virtualenvs/nlp-projet/lib/python3.10/site-packages (from requests>=2.26.0->tiktoken) (2024.2.2)\r\n",
      "Requirement already satisfied: blis<0.8.0,>=0.7.8 in /home/florinekieraga/.virtualenvs/nlp-projet/lib/python3.10/site-packages (from thinc<8.3.0,>=8.2.2->spacy) (0.7.11)\r\n",
      "Requirement already satisfied: confection<1.0.0,>=0.0.1 in /home/florinekieraga/.virtualenvs/nlp-projet/lib/python3.10/site-packages (from thinc<8.3.0,>=8.2.2->spacy) (0.1.4)\r\n",
      "Requirement already satisfied: click<9.0.0,>=7.1.1 in /home/florinekieraga/.virtualenvs/nlp-projet/lib/python3.10/site-packages (from typer<0.10.0,>=0.3.0->spacy) (8.1.7)\r\n",
      "Requirement already satisfied: cloudpathlib<0.17.0,>=0.7.0 in /home/florinekieraga/.virtualenvs/nlp-projet/lib/python3.10/site-packages (from weasel<0.4.0,>=0.1.0->spacy) (0.16.0)\r\n"
     ]
    }
   ],
   "source": [
    "!pip install pandas seaborn matplotlib scikit-learn gensim eli5 tiktoken spacy gensim"
   ],
   "metadata": {
    "collapsed": false,
    "ExecuteTime": {
     "end_time": "2024-04-22T13:49:00.811440202Z",
     "start_time": "2024-04-22T13:48:59.092530130Z"
    }
   },
   "id": "dbabe182bc224349",
   "execution_count": 1
  },
  {
   "cell_type": "code",
   "outputs": [],
   "source": [
    "import tiktoken\n",
    "import pandas as pd\n",
    "from nltk.tokenize import word_tokenize, sent_tokenize\n",
    "import numpy\n",
    "import matplotlib.pyplot as plt\n",
    "import re"
   ],
   "metadata": {
    "collapsed": false,
    "ExecuteTime": {
     "end_time": "2024-04-22T13:49:01.151687806Z",
     "start_time": "2024-04-22T13:49:00.817734632Z"
    }
   },
   "id": "a448ecce62138fd7",
   "execution_count": 2
  },
  {
   "cell_type": "code",
   "outputs": [
    {
     "name": "stderr",
     "output_type": "stream",
     "text": [
      "[nltk_data] Downloading package stopwords to\n",
      "[nltk_data]     /home/florinekieraga/nltk_data...\n",
      "[nltk_data]   Package stopwords is already up-to-date!\n"
     ]
    }
   ],
   "source": [
    "import nltk \n",
    "nltk.download('stopwords')\n",
    "from nltk.corpus import stopwords"
   ],
   "metadata": {
    "collapsed": false,
    "ExecuteTime": {
     "end_time": "2024-04-22T13:49:01.328840137Z",
     "start_time": "2024-04-22T13:49:01.153256451Z"
    }
   },
   "id": "d8df64677c35910a",
   "execution_count": 3
  },
  {
   "cell_type": "code",
   "outputs": [
    {
     "name": "stderr",
     "output_type": "stream",
     "text": [
      "[nltk_data] Downloading package wordnet to\n",
      "[nltk_data]     /home/florinekieraga/nltk_data...\n",
      "[nltk_data]   Package wordnet is already up-to-date!\n"
     ]
    }
   ],
   "source": [
    "nltk.download('wordnet')\n",
    "from nltk.stem import WordNetLemmatizer "
   ],
   "metadata": {
    "collapsed": false,
    "ExecuteTime": {
     "end_time": "2024-04-22T13:49:01.372484795Z",
     "start_time": "2024-04-22T13:49:01.330426064Z"
    }
   },
   "id": "dc218cb663b17d21",
   "execution_count": 4
  },
  {
   "cell_type": "code",
   "outputs": [],
   "source": [
    "df = pd.read_csv('training.1600000.processed.noemoticon.csv',\n",
    "                 encoding = 'latin',header=None)\n"
   ],
   "metadata": {
    "collapsed": false,
    "ExecuteTime": {
     "end_time": "2024-04-22T13:49:04.130775105Z",
     "start_time": "2024-04-22T13:49:01.372234025Z"
    }
   },
   "id": "afb374d8de162863",
   "execution_count": 5
  },
  {
   "cell_type": "code",
   "outputs": [
    {
     "data": {
      "text/plain": "   polarity          id                          date     query  \\\n0         0  1467810369  Mon Apr 06 22:19:45 PDT 2009  NO_QUERY   \n1         0  1467810672  Mon Apr 06 22:19:49 PDT 2009  NO_QUERY   \n2         0  1467810917  Mon Apr 06 22:19:53 PDT 2009  NO_QUERY   \n3         0  1467811184  Mon Apr 06 22:19:57 PDT 2009  NO_QUERY   \n4         0  1467811193  Mon Apr 06 22:19:57 PDT 2009  NO_QUERY   \n\n              user                                               text  \n0  _TheSpecialOne_  @switchfoot http://twitpic.com/2y1zl - Awww, t...  \n1    scotthamilton  is upset that he can't update his Facebook by ...  \n2         mattycus  @Kenichan I dived many times for the ball. Man...  \n3          ElleCTF    my whole body feels itchy and like its on fire   \n4           Karoli  @nationwideclass no, it's not behaving at all....  ",
      "text/html": "<div>\n<style scoped>\n    .dataframe tbody tr th:only-of-type {\n        vertical-align: middle;\n    }\n\n    .dataframe tbody tr th {\n        vertical-align: top;\n    }\n\n    .dataframe thead th {\n        text-align: right;\n    }\n</style>\n<table border=\"1\" class=\"dataframe\">\n  <thead>\n    <tr style=\"text-align: right;\">\n      <th></th>\n      <th>polarity</th>\n      <th>id</th>\n      <th>date</th>\n      <th>query</th>\n      <th>user</th>\n      <th>text</th>\n    </tr>\n  </thead>\n  <tbody>\n    <tr>\n      <th>0</th>\n      <td>0</td>\n      <td>1467810369</td>\n      <td>Mon Apr 06 22:19:45 PDT 2009</td>\n      <td>NO_QUERY</td>\n      <td>_TheSpecialOne_</td>\n      <td>@switchfoot http://twitpic.com/2y1zl - Awww, t...</td>\n    </tr>\n    <tr>\n      <th>1</th>\n      <td>0</td>\n      <td>1467810672</td>\n      <td>Mon Apr 06 22:19:49 PDT 2009</td>\n      <td>NO_QUERY</td>\n      <td>scotthamilton</td>\n      <td>is upset that he can't update his Facebook by ...</td>\n    </tr>\n    <tr>\n      <th>2</th>\n      <td>0</td>\n      <td>1467810917</td>\n      <td>Mon Apr 06 22:19:53 PDT 2009</td>\n      <td>NO_QUERY</td>\n      <td>mattycus</td>\n      <td>@Kenichan I dived many times for the ball. Man...</td>\n    </tr>\n    <tr>\n      <th>3</th>\n      <td>0</td>\n      <td>1467811184</td>\n      <td>Mon Apr 06 22:19:57 PDT 2009</td>\n      <td>NO_QUERY</td>\n      <td>ElleCTF</td>\n      <td>my whole body feels itchy and like its on fire</td>\n    </tr>\n    <tr>\n      <th>4</th>\n      <td>0</td>\n      <td>1467811193</td>\n      <td>Mon Apr 06 22:19:57 PDT 2009</td>\n      <td>NO_QUERY</td>\n      <td>Karoli</td>\n      <td>@nationwideclass no, it's not behaving at all....</td>\n    </tr>\n  </tbody>\n</table>\n</div>"
     },
     "execution_count": 6,
     "metadata": {},
     "output_type": "execute_result"
    }
   ],
   "source": [
    "df.rename(columns={0: 'polarity', 1: 'id', 2: 'date', 3: 'query', 4: 'user', 5: 'text'}, inplace= True)\n",
    "df.head()"
   ],
   "metadata": {
    "collapsed": false,
    "ExecuteTime": {
     "end_time": "2024-04-22T13:49:04.151290832Z",
     "start_time": "2024-04-22T13:49:04.138343534Z"
    }
   },
   "id": "abdbe096f763ce20",
   "execution_count": 6
  },
  {
   "cell_type": "markdown",
   "source": [
    "## Training Word2Vec and tf-idf "
   ],
   "metadata": {
    "collapsed": false
   },
   "id": "a744618c421c245b"
  },
  {
   "cell_type": "code",
   "outputs": [
    {
     "ename": "ImportError",
     "evalue": "cannot import name 'triu' from 'scipy.linalg' (/home/florinekieraga/.virtualenvs/nlp-projet/lib/python3.10/site-packages/scipy/linalg/__init__.py)",
     "output_type": "error",
     "traceback": [
      "\u001B[0;31m---------------------------------------------------------------------------\u001B[0m",
      "\u001B[0;31mImportError\u001B[0m                               Traceback (most recent call last)",
      "Cell \u001B[0;32mIn[7], line 1\u001B[0m\n\u001B[0;32m----> 1\u001B[0m \u001B[38;5;28;01mfrom\u001B[39;00m \u001B[38;5;21;01mgensim\u001B[39;00m\u001B[38;5;21;01m.\u001B[39;00m\u001B[38;5;21;01mmodels\u001B[39;00m \u001B[38;5;28;01mimport\u001B[39;00m Word2Vec\n\u001B[1;32m      2\u001B[0m \u001B[38;5;28;01mfrom\u001B[39;00m \u001B[38;5;21;01mgensim\u001B[39;00m\u001B[38;5;21;01m.\u001B[39;00m\u001B[38;5;21;01mmodels\u001B[39;00m \u001B[38;5;28;01mimport\u001B[39;00m KeyedVectors\n",
      "File \u001B[0;32m~/.virtualenvs/nlp-projet/lib/python3.10/site-packages/gensim/__init__.py:11\u001B[0m\n\u001B[1;32m      7\u001B[0m __version__ \u001B[38;5;241m=\u001B[39m \u001B[38;5;124m'\u001B[39m\u001B[38;5;124m4.3.2\u001B[39m\u001B[38;5;124m'\u001B[39m\n\u001B[1;32m      9\u001B[0m \u001B[38;5;28;01mimport\u001B[39;00m \u001B[38;5;21;01mlogging\u001B[39;00m\n\u001B[0;32m---> 11\u001B[0m \u001B[38;5;28;01mfrom\u001B[39;00m \u001B[38;5;21;01mgensim\u001B[39;00m \u001B[38;5;28;01mimport\u001B[39;00m parsing, corpora, matutils, interfaces, models, similarities, utils  \u001B[38;5;66;03m# noqa:F401\u001B[39;00m\n\u001B[1;32m     14\u001B[0m logger \u001B[38;5;241m=\u001B[39m logging\u001B[38;5;241m.\u001B[39mgetLogger(\u001B[38;5;124m'\u001B[39m\u001B[38;5;124mgensim\u001B[39m\u001B[38;5;124m'\u001B[39m)\n\u001B[1;32m     15\u001B[0m \u001B[38;5;28;01mif\u001B[39;00m \u001B[38;5;129;01mnot\u001B[39;00m logger\u001B[38;5;241m.\u001B[39mhandlers:  \u001B[38;5;66;03m# To ensure reload() doesn't add another one\u001B[39;00m\n",
      "File \u001B[0;32m~/.virtualenvs/nlp-projet/lib/python3.10/site-packages/gensim/corpora/__init__.py:6\u001B[0m\n\u001B[1;32m      1\u001B[0m \u001B[38;5;124;03m\"\"\"\u001B[39;00m\n\u001B[1;32m      2\u001B[0m \u001B[38;5;124;03mThis package contains implementations of various streaming corpus I/O format.\u001B[39;00m\n\u001B[1;32m      3\u001B[0m \u001B[38;5;124;03m\"\"\"\u001B[39;00m\n\u001B[1;32m      5\u001B[0m \u001B[38;5;66;03m# bring corpus classes directly into package namespace, to save some typing\u001B[39;00m\n\u001B[0;32m----> 6\u001B[0m \u001B[38;5;28;01mfrom\u001B[39;00m \u001B[38;5;21;01m.\u001B[39;00m\u001B[38;5;21;01mindexedcorpus\u001B[39;00m \u001B[38;5;28;01mimport\u001B[39;00m IndexedCorpus  \u001B[38;5;66;03m# noqa:F401 must appear before the other classes\u001B[39;00m\n\u001B[1;32m      8\u001B[0m \u001B[38;5;28;01mfrom\u001B[39;00m \u001B[38;5;21;01m.\u001B[39;00m\u001B[38;5;21;01mmmcorpus\u001B[39;00m \u001B[38;5;28;01mimport\u001B[39;00m MmCorpus  \u001B[38;5;66;03m# noqa:F401\u001B[39;00m\n\u001B[1;32m      9\u001B[0m \u001B[38;5;28;01mfrom\u001B[39;00m \u001B[38;5;21;01m.\u001B[39;00m\u001B[38;5;21;01mbleicorpus\u001B[39;00m \u001B[38;5;28;01mimport\u001B[39;00m BleiCorpus  \u001B[38;5;66;03m# noqa:F401\u001B[39;00m\n",
      "File \u001B[0;32m~/.virtualenvs/nlp-projet/lib/python3.10/site-packages/gensim/corpora/indexedcorpus.py:14\u001B[0m\n\u001B[1;32m     10\u001B[0m \u001B[38;5;28;01mimport\u001B[39;00m \u001B[38;5;21;01mlogging\u001B[39;00m\n\u001B[1;32m     12\u001B[0m \u001B[38;5;28;01mimport\u001B[39;00m \u001B[38;5;21;01mnumpy\u001B[39;00m\n\u001B[0;32m---> 14\u001B[0m \u001B[38;5;28;01mfrom\u001B[39;00m \u001B[38;5;21;01mgensim\u001B[39;00m \u001B[38;5;28;01mimport\u001B[39;00m interfaces, utils\n\u001B[1;32m     16\u001B[0m logger \u001B[38;5;241m=\u001B[39m logging\u001B[38;5;241m.\u001B[39mgetLogger(\u001B[38;5;18m__name__\u001B[39m)\n\u001B[1;32m     19\u001B[0m \u001B[38;5;28;01mclass\u001B[39;00m \u001B[38;5;21;01mIndexedCorpus\u001B[39;00m(interfaces\u001B[38;5;241m.\u001B[39mCorpusABC):\n",
      "File \u001B[0;32m~/.virtualenvs/nlp-projet/lib/python3.10/site-packages/gensim/interfaces.py:19\u001B[0m\n\u001B[1;32m      7\u001B[0m \u001B[38;5;124;03m\"\"\"Basic interfaces used across the whole Gensim package.\u001B[39;00m\n\u001B[1;32m      8\u001B[0m \n\u001B[1;32m      9\u001B[0m \u001B[38;5;124;03mThese interfaces are used for building corpora, model transformation and similarity queries.\u001B[39;00m\n\u001B[0;32m   (...)\u001B[0m\n\u001B[1;32m     14\u001B[0m \n\u001B[1;32m     15\u001B[0m \u001B[38;5;124;03m\"\"\"\u001B[39;00m\n\u001B[1;32m     17\u001B[0m \u001B[38;5;28;01mimport\u001B[39;00m \u001B[38;5;21;01mlogging\u001B[39;00m\n\u001B[0;32m---> 19\u001B[0m \u001B[38;5;28;01mfrom\u001B[39;00m \u001B[38;5;21;01mgensim\u001B[39;00m \u001B[38;5;28;01mimport\u001B[39;00m utils, matutils\n\u001B[1;32m     22\u001B[0m logger \u001B[38;5;241m=\u001B[39m logging\u001B[38;5;241m.\u001B[39mgetLogger(\u001B[38;5;18m__name__\u001B[39m)\n\u001B[1;32m     25\u001B[0m \u001B[38;5;28;01mclass\u001B[39;00m \u001B[38;5;21;01mCorpusABC\u001B[39;00m(utils\u001B[38;5;241m.\u001B[39mSaveLoad):\n",
      "File \u001B[0;32m~/.virtualenvs/nlp-projet/lib/python3.10/site-packages/gensim/matutils.py:20\u001B[0m\n\u001B[1;32m     18\u001B[0m \u001B[38;5;28;01mimport\u001B[39;00m \u001B[38;5;21;01mscipy\u001B[39;00m\u001B[38;5;21;01m.\u001B[39;00m\u001B[38;5;21;01msparse\u001B[39;00m\n\u001B[1;32m     19\u001B[0m \u001B[38;5;28;01mfrom\u001B[39;00m \u001B[38;5;21;01mscipy\u001B[39;00m\u001B[38;5;21;01m.\u001B[39;00m\u001B[38;5;21;01mstats\u001B[39;00m \u001B[38;5;28;01mimport\u001B[39;00m entropy\n\u001B[0;32m---> 20\u001B[0m \u001B[38;5;28;01mfrom\u001B[39;00m \u001B[38;5;21;01mscipy\u001B[39;00m\u001B[38;5;21;01m.\u001B[39;00m\u001B[38;5;21;01mlinalg\u001B[39;00m \u001B[38;5;28;01mimport\u001B[39;00m get_blas_funcs, triu\n\u001B[1;32m     21\u001B[0m \u001B[38;5;28;01mfrom\u001B[39;00m \u001B[38;5;21;01mscipy\u001B[39;00m\u001B[38;5;21;01m.\u001B[39;00m\u001B[38;5;21;01mlinalg\u001B[39;00m\u001B[38;5;21;01m.\u001B[39;00m\u001B[38;5;21;01mlapack\u001B[39;00m \u001B[38;5;28;01mimport\u001B[39;00m get_lapack_funcs\n\u001B[1;32m     22\u001B[0m \u001B[38;5;28;01mfrom\u001B[39;00m \u001B[38;5;21;01mscipy\u001B[39;00m\u001B[38;5;21;01m.\u001B[39;00m\u001B[38;5;21;01mspecial\u001B[39;00m \u001B[38;5;28;01mimport\u001B[39;00m psi  \u001B[38;5;66;03m# gamma function utils\u001B[39;00m\n",
      "\u001B[0;31mImportError\u001B[0m: cannot import name 'triu' from 'scipy.linalg' (/home/florinekieraga/.virtualenvs/nlp-projet/lib/python3.10/site-packages/scipy/linalg/__init__.py)"
     ]
    }
   ],
   "source": [
    "from gensim.models import Word2Vec\n",
    "from gensim.models import KeyedVectors\n"
   ],
   "metadata": {
    "collapsed": false,
    "ExecuteTime": {
     "end_time": "2024-04-22T13:49:04.749753393Z",
     "start_time": "2024-04-22T13:49:04.149831223Z"
    }
   },
   "id": "edc92def7950ea39",
   "execution_count": 7
  },
  {
   "cell_type": "code",
   "outputs": [],
   "source": [
    "X_list = list(df.)\n",
    "model = "
   ],
   "metadata": {
    "collapsed": false,
    "ExecuteTime": {
     "end_time": "2024-04-22T13:49:04.754984218Z",
     "start_time": "2024-04-22T13:49:04.752458164Z"
    }
   },
   "id": "61910bf97f97438f"
  }
 ],
 "metadata": {
  "kernelspec": {
   "display_name": "Python 3",
   "language": "python",
   "name": "python3"
  },
  "language_info": {
   "codemirror_mode": {
    "name": "ipython",
    "version": 2
   },
   "file_extension": ".py",
   "mimetype": "text/x-python",
   "name": "python",
   "nbconvert_exporter": "python",
   "pygments_lexer": "ipython2",
   "version": "2.7.6"
  }
 },
 "nbformat": 4,
 "nbformat_minor": 5
}

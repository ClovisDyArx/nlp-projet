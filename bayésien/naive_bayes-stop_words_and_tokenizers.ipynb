{
 "cells": [
  {
   "cell_type": "markdown",
   "id": "eae851b7-8b70-4a35-80fb-b7c548032b80",
   "metadata": {},
   "source": [
    "# Naive Bayes"
   ]
  },
  {
   "cell_type": "markdown",
   "id": "75105c54-aac1-4011-9a59-00ab4cc31798",
   "metadata": {},
   "source": [
    "## Librairies et dataset"
   ]
  },
  {
   "cell_type": "code",
   "execution_count": 1,
   "id": "a685ce16-8bbd-4493-a961-e4004f2526e3",
   "metadata": {},
   "outputs": [
    {
     "name": "stderr",
     "output_type": "stream",
     "text": [
      "C:\\Users\\Eliana\\AppData\\Local\\Packages\\PythonSoftwareFoundation.Python.3.10_qbz5n2kfra8p0\\LocalCache\\local-packages\\Python310\\site-packages\\tqdm\\auto.py:21: TqdmWarning: IProgress not found. Please update jupyter and ipywidgets. See https://ipywidgets.readthedocs.io/en/stable/user_install.html\n",
      "  from .autonotebook import tqdm as notebook_tqdm\n"
     ]
    }
   ],
   "source": [
    "import pandas as pd\n",
    "import seaborn as sns\n",
    "import matplotlib.pyplot as plt\n",
    "from datasets import load_dataset\n",
    "from nltk import word_tokenize          \n",
    "from nltk.stem import WordNetLemmatizer \n",
    "import tiktoken\n",
    "\n",
    "from sklearn.model_selection import train_test_split, cross_val_score, GridSearchCV, StratifiedKFold\n",
    "from sklearn.feature_extraction.text import CountVectorizer, TfidfVectorizer, TfidfTransformer\n",
    "from sklearn.naive_bayes import MultinomialNB\n",
    "from sklearn.pipeline import make_pipeline\n",
    "from sklearn.metrics import classification_report, accuracy_score, ConfusionMatrixDisplay, confusion_matrix\n",
    "from sklearn.utils.class_weight import compute_sample_weight\n",
    "from sklearn.linear_model import LogisticRegression\n",
    "from sklearn.preprocessing import StandardScaler\n",
    "from sklearn.ensemble import VotingClassifier\n",
    "\n",
    "from spacy.lang.fr.stop_words import STOP_WORDS as fr_stop\n",
    "from spacy.lang.en.stop_words import STOP_WORDS as en_stop\n",
    "\n",
    "import re"
   ]
  },
  {
   "cell_type": "code",
   "execution_count": 2,
   "id": "4e1e9e7a",
   "metadata": {},
   "outputs": [
    {
     "name": "stderr",
     "output_type": "stream",
     "text": [
      "[nltk_data] Downloading package stopwords to\n",
      "[nltk_data]     C:\\Users\\Eliana\\AppData\\Roaming\\nltk_data...\n",
      "[nltk_data]   Package stopwords is already up-to-date!\n",
      "[nltk_data] Downloading package wordnet to\n",
      "[nltk_data]     C:\\Users\\Eliana\\AppData\\Roaming\\nltk_data...\n",
      "[nltk_data]   Package wordnet is already up-to-date!\n"
     ]
    }
   ],
   "source": [
    "import nltk\n",
    "\n",
    "nltk.download('stopwords')\n",
    "from nltk.corpus import stopwords\n",
    "\n",
    "nltk.download('wordnet')\n",
    "from nltk.stem import WordNetLemmatizer "
   ]
  },
  {
   "cell_type": "code",
   "execution_count": 3,
   "id": "9592edd5-f84f-4165-b7e9-fdd4ac3947a3",
   "metadata": {},
   "outputs": [
    {
     "data": {
      "text/html": [
       "<div>\n",
       "<style scoped>\n",
       "    .dataframe tbody tr th:only-of-type {\n",
       "        vertical-align: middle;\n",
       "    }\n",
       "\n",
       "    .dataframe tbody tr th {\n",
       "        vertical-align: top;\n",
       "    }\n",
       "\n",
       "    .dataframe thead th {\n",
       "        text-align: right;\n",
       "    }\n",
       "</style>\n",
       "<table border=\"1\" class=\"dataframe\">\n",
       "  <thead>\n",
       "    <tr style=\"text-align: right;\">\n",
       "      <th></th>\n",
       "      <th>text</th>\n",
       "      <th>label</th>\n",
       "      <th>src</th>\n",
       "    </tr>\n",
       "  </thead>\n",
       "  <tbody>\n",
       "    <tr>\n",
       "      <th>0</th>\n",
       "      <td>White girls very rarely date Asian men. Even i...</td>\n",
       "      <td>1</td>\n",
       "      <td>cmv_human</td>\n",
       "    </tr>\n",
       "    <tr>\n",
       "      <th>1</th>\n",
       "      <td>I am a 23 year old male Indian American male. ...</td>\n",
       "      <td>1</td>\n",
       "      <td>cmv_human</td>\n",
       "    </tr>\n",
       "    <tr>\n",
       "      <th>2</th>\n",
       "      <td>Take three people, Persons A, B, and C. They l...</td>\n",
       "      <td>1</td>\n",
       "      <td>cmv_human</td>\n",
       "    </tr>\n",
       "    <tr>\n",
       "      <th>3</th>\n",
       "      <td>(A) Work part-time in high school; Then go to ...</td>\n",
       "      <td>1</td>\n",
       "      <td>cmv_human</td>\n",
       "    </tr>\n",
       "    <tr>\n",
       "      <th>4</th>\n",
       "      <td>When police introduce a new form of speed prev...</td>\n",
       "      <td>1</td>\n",
       "      <td>cmv_human</td>\n",
       "    </tr>\n",
       "  </tbody>\n",
       "</table>\n",
       "</div>"
      ],
      "text/plain": [
       "                                                text  label        src\n",
       "0  White girls very rarely date Asian men. Even i...      1  cmv_human\n",
       "1  I am a 23 year old male Indian American male. ...      1  cmv_human\n",
       "2  Take three people, Persons A, B, and C. They l...      1  cmv_human\n",
       "3  (A) Work part-time in high school; Then go to ...      1  cmv_human\n",
       "4  When police introduce a new form of speed prev...      1  cmv_human"
      ]
     },
     "execution_count": 3,
     "metadata": {},
     "output_type": "execute_result"
    }
   ],
   "source": [
    "dataset = load_dataset(\"yaful/DeepfakeTextDetect\")\n",
    "df = dataset[\"train\"].to_pandas()\n",
    "df.head()"
   ]
  },
  {
   "cell_type": "markdown",
   "id": "c46e5ddf-c780-43e6-b5e0-a77d6a7f66c7",
   "metadata": {},
   "source": [
    "## Training and test sets"
   ]
  },
  {
   "cell_type": "code",
   "execution_count": 4,
   "id": "144dcfd1-a7df-4a8c-a4b8-e1d301afa2a7",
   "metadata": {},
   "outputs": [],
   "source": [
    "X_train, X_test, y_train, y_test = train_test_split(df[\"text\"], df[\"label\"], test_size=0.2, random_state=69)"
   ]
  },
  {
   "cell_type": "markdown",
   "id": "6f8f1353-cd7b-4e0b-afc7-6184e1a86888",
   "metadata": {},
   "source": [
    "## Fonctions de créations de tokens"
   ]
  },
  {
   "cell_type": "code",
   "execution_count": 5,
   "id": "c76949c3-2986-4f74-91a1-8782ed3af58e",
   "metadata": {},
   "outputs": [],
   "source": [
    "def lemma_tokenize(doc):\n",
    "    wnl = WordNetLemmatizer()\n",
    "    return [wnl.lemmatize(t) for t in word_tokenize(doc)]\n",
    "\n",
    "def byte_pair_tokenize(doc):\n",
    "    enc = tiktoken.encoding_for_model(\"gpt-4\")\n",
    "    tokens = enc.encode(doc)\n",
    "    return [str(token) for token in tokens]"
   ]
  },
  {
   "cell_type": "markdown",
   "id": "7ac26f4c-aaf1-4312-8420-b029d3925ab0",
   "metadata": {},
   "source": [
    "## Création des modèles"
   ]
  },
  {
   "cell_type": "code",
   "execution_count": 6,
   "id": "3f3b13ac-1ff0-4fd7-af59-39884f7ad83e",
   "metadata": {},
   "outputs": [],
   "source": [
    "model1 = make_pipeline(CountVectorizer(tokenizer=lemma_tokenize, stop_words = list(en_stop), ngram_range = (1,1)), MultinomialNB())\n",
    "model2 = make_pipeline(CountVectorizer(tokenizer=byte_pair_tokenize, stop_words = list(en_stop), ngram_range = (1,1)), MultinomialNB())\n",
    "\n",
    "model3 = make_pipeline(CountVectorizer(tokenizer=lemma_tokenize, stop_words = list(en_stop), ngram_range = (3,3)), MultinomialNB())\n",
    "model4 = make_pipeline(CountVectorizer(tokenizer=byte_pair_tokenize, stop_words = list(en_stop), ngram_range = (3,3)), MultinomialNB())"
   ]
  },
  {
   "cell_type": "markdown",
   "id": "a3d97d5c",
   "metadata": {},
   "source": [
    "## Entraînements, prédictions et matrices de confusion"
   ]
  },
  {
   "cell_type": "code",
   "execution_count": 7,
   "id": "88daf161",
   "metadata": {},
   "outputs": [
    {
     "name": "stdout",
     "output_type": "stream",
     "text": [
      "Model: lemma\n"
     ]
    },
    {
     "name": "stderr",
     "output_type": "stream",
     "text": [
      "C:\\Users\\Eliana\\AppData\\Local\\Packages\\PythonSoftwareFoundation.Python.3.10_qbz5n2kfra8p0\\LocalCache\\local-packages\\Python310\\site-packages\\sklearn\\feature_extraction\\text.py:525: UserWarning: The parameter 'token_pattern' will not be used since 'tokenizer' is not None'\n",
      "  warnings.warn(\n",
      "C:\\Users\\Eliana\\AppData\\Local\\Packages\\PythonSoftwareFoundation.Python.3.10_qbz5n2kfra8p0\\LocalCache\\local-packages\\Python310\\site-packages\\sklearn\\feature_extraction\\text.py:408: UserWarning: Your stop_words may be inconsistent with your preprocessing. Tokenizing the stop words generated tokens ['d', 'doe', 'ha', 'le', 'll', 'm', 'n', 's', 't', 'u', 've', 'wa', '‘', '’'] not in stop_words.\n",
      "  warnings.warn(\n"
     ]
    },
    {
     "name": "stdout",
     "output_type": "stream",
     "text": [
      "Features dimension: (255256, 403610)\n",
      "Classification Report:\n",
      "               precision    recall  f1-score   support\n",
      "\n",
      "           0       0.85      0.83      0.84     45082\n",
      "           1       0.62      0.65      0.63     18733\n",
      "\n",
      "    accuracy                           0.78     63815\n",
      "   macro avg       0.73      0.74      0.74     63815\n",
      "weighted avg       0.78      0.78      0.78     63815\n",
      "\n",
      "Model: bytes-pair\n"
     ]
    },
    {
     "name": "stderr",
     "output_type": "stream",
     "text": [
      "C:\\Users\\Eliana\\AppData\\Local\\Packages\\PythonSoftwareFoundation.Python.3.10_qbz5n2kfra8p0\\LocalCache\\local-packages\\Python310\\site-packages\\sklearn\\feature_extraction\\text.py:525: UserWarning: The parameter 'token_pattern' will not be used since 'tokenizer' is not None'\n",
      "  warnings.warn(\n",
      "C:\\Users\\Eliana\\AppData\\Local\\Packages\\PythonSoftwareFoundation.Python.3.10_qbz5n2kfra8p0\\LocalCache\\local-packages\\Python310\\site-packages\\sklearn\\feature_extraction\\text.py:408: UserWarning: Your stop_words may be inconsistent with your preprocessing. Tokenizing the stop words generated tokens ['10138', '10274', '1055', '10655', '1073', '10888', '10924', '11536', '11945', '12116', '1220', '1225', '1245', '12682', '12840', '1336', '13397', '1348', '13486', '1395', '1409', '1431', '14336', '1445', '14622', '14724', '14965', '15031', '15145', '15205', '15247', '1527', '1531', '15930', '1605', '1610', '16514', '16809', '1683', '17106', '17206', '1729', '1752', '17998', '1820', '18238', '18614', '1885', '18864', '19041', '19171', '1919', '19553', '1962', '1964', '2000', '20019', '2002', '2017', '20322', '20375', '20583', '20670', '20708', '20969', '2099', '21470', '21704', '2177', '21903', '2201', '22479', '23478', '2351', '23609', '23770', '24567', '2465', '25030', '2530', '2544', '258', '25849', '263', '26301', '265', '2656', '266', '267', '268', '269', '2727', '2739', '275', '276', '28010', '28074', '28156', '2846', '285', '28753', '28956', '291', '29177', '2940', '29510', '2996', '300', '3002', '30096', '30115', '3055', '3077', '309', '30998', '31121', '316', '31845', '3195', '3207', '32158', '32345', '325', '32676', '3274', '32827', '33222', '3323', '333', '3358', '336', '33871', '339', '3409', '3422', '34232', '3427', '34360', '34431', '3473', '3479', '35124', '35214', '3522', '3528', '355', '3556', '35627', '3565', '35676', '35734', '3646', '3684', '37227', '37241', '373', '37593', '37890', '383', '3852', '388', '39393', '39724', '398', '3983', '39830', '39870', '4004', '4057', '40617', '4070', '4102', '412', '414', '41450', '4151', '4199', '42312', '424', '4265', '4291', '42967', '43063', '4344', '43440', '4345', '4354', '4372', '43741', '438', '44466', '45010', '45359', '455', '456', '45807', '4581', '46068', '4636', '46584', '47492', '4752', '47530', '4805', '485', '491', '4919', '49532', '49818', '49864', '50828', '50998', '51464', '5269', '52898', '53770', '54277', '543', '54719', '54760', '548', '54895', '5562', '56371', '56950', '576', '57753', '57839', '579', '582', '588', '59178', '596', '59723', '59961', '60301', '606', '609', '6095', '61036', '6173', '61752', '61917', '631', '638', '63995', '64', '65', '6518', '657', '66372', '67', '67733', '6797', '6836', '68632', '6881', '69', '69386', '69849', '70614', '7070', '7072', '708', '7096', '71', '716', '71830', '71839', '72', '7259', '726', '73254', '73826', '74303', '74914', '75', '753', '76', '768', '77', '77405', '785', '8154', '818', '8248', '82850', '82977', '83', '83071', '8370', '84270', '86243', '88', '9054', '90579', '906', '9210', '9274', '93057', '9336', '936', '94323', '94427', '9493', '95065', '9514', '956', '959', '9620', '9739', '985', '989', '98936', '998'] not in stop_words.\n",
      "  warnings.warn(\n"
     ]
    },
    {
     "name": "stdout",
     "output_type": "stream",
     "text": [
      "Features dimension: (255256, 42543)\n",
      "Classification Report:\n",
      "               precision    recall  f1-score   support\n",
      "\n",
      "           0       0.85      0.74      0.79     45082\n",
      "           1       0.52      0.69      0.60     18733\n",
      "\n",
      "    accuracy                           0.73     63815\n",
      "   macro avg       0.69      0.72      0.69     63815\n",
      "weighted avg       0.76      0.73      0.73     63815\n",
      "\n"
     ]
    },
    {
     "data": {
      "image/png": "[encoded data removed]",
      "text/plain": [
       "<Figure size 2000x500 with 3 Axes>"
      ]
     },
     "metadata": {},
     "output_type": "display_data"
    }
   ],
   "source": [
    "classifiers = {\n",
    "    \"lemma\": model1,\n",
    "    \"bytes-pair\": model2,\n",
    "}\n",
    "\n",
    "f, axes = plt.subplots(1, 2, figsize=(20, 5), sharey='row')\n",
    "\n",
    "for i, (key, classifier) in enumerate(classifiers.items()):\n",
    "    print(\"Model: \" + key)\n",
    "    y_pred = classifier.fit(X_train, y_train).predict(X_test)\n",
    "    cf_matrix = confusion_matrix(y_test, y_pred)\n",
    "    print(f\"Features dimension: {len(X_train), len(classifier[0].vocabulary_)}\")\n",
    "    print(\"Classification Report:\\n\", classification_report(y_test, y_pred))\n",
    "    \n",
    "    disp = ConfusionMatrixDisplay(cf_matrix,\n",
    "                                  display_labels=classifier.classes_)\n",
    "    disp.plot(ax=axes[i], xticks_rotation=45)\n",
    "    disp.ax_.set_title(key)\n",
    "    disp.im_.colorbar.remove()\n",
    "    disp.ax_.set_xlabel('')\n",
    "    if i!=0: \n",
    "        disp.ax_.set_ylabel('')\n",
    "\n",
    "f.text(0.4, 0.1, 'Predicted label', ha='left')\n",
    "plt.subplots_adjust(wspace=0.40, hspace=0.1)\n",
    "\n",
    "\n",
    "f.colorbar(disp.im_, ax=axes)\n",
    "plt.show()"
   ]
  },
  {
   "cell_type": "code",
   "execution_count": 7,
   "id": "5143d610",
   "metadata": {},
   "outputs": [
    {
     "name": "stdout",
     "output_type": "stream",
     "text": [
      "Model: lemma\n"
     ]
    },
    {
     "name": "stderr",
     "output_type": "stream",
     "text": [
      "C:\\Users\\Eliana\\AppData\\Local\\Packages\\PythonSoftwareFoundation.Python.3.10_qbz5n2kfra8p0\\LocalCache\\local-packages\\Python310\\site-packages\\sklearn\\feature_extraction\\text.py:525: UserWarning: The parameter 'token_pattern' will not be used since 'tokenizer' is not None'\n",
      "  warnings.warn(\n",
      "C:\\Users\\Eliana\\AppData\\Local\\Packages\\PythonSoftwareFoundation.Python.3.10_qbz5n2kfra8p0\\LocalCache\\local-packages\\Python310\\site-packages\\sklearn\\feature_extraction\\text.py:408: UserWarning: Your stop_words may be inconsistent with your preprocessing. Tokenizing the stop words generated tokens ['d', 'doe', 'ha', 'le', 'll', 'm', 'n', 's', 't', 'u', 've', 'wa', '‘', '’'] not in stop_words.\n",
      "  warnings.warn(\n"
     ]
    },
    {
     "name": "stdout",
     "output_type": "stream",
     "text": [
      "Features dimension: (255256, 21209131)\n",
      "Classification Report:\n",
      "               precision    recall  f1-score   support\n",
      "\n",
      "           0       0.81      1.00      0.89     45082\n",
      "           1       0.98      0.42      0.59     18733\n",
      "\n",
      "    accuracy                           0.83     63815\n",
      "   macro avg       0.89      0.71      0.74     63815\n",
      "weighted avg       0.86      0.83      0.80     63815\n",
      "\n",
      "Model: bytes-pair\n"
     ]
    },
    {
     "name": "stderr",
     "output_type": "stream",
     "text": [
      "C:\\Users\\Eliana\\AppData\\Local\\Packages\\PythonSoftwareFoundation.Python.3.10_qbz5n2kfra8p0\\LocalCache\\local-packages\\Python310\\site-packages\\sklearn\\feature_extraction\\text.py:525: UserWarning: The parameter 'token_pattern' will not be used since 'tokenizer' is not None'\n",
      "  warnings.warn(\n",
      "C:\\Users\\Eliana\\AppData\\Local\\Packages\\PythonSoftwareFoundation.Python.3.10_qbz5n2kfra8p0\\LocalCache\\local-packages\\Python310\\site-packages\\sklearn\\feature_extraction\\text.py:408: UserWarning: Your stop_words may be inconsistent with your preprocessing. Tokenizing the stop words generated tokens ['10138', '10274', '1055', '10655', '1073', '10888', '10924', '11536', '11945', '12116', '1220', '1225', '1245', '12682', '12840', '1336', '13397', '1348', '13486', '1395', '1409', '1431', '14336', '1445', '14622', '14724', '14965', '15031', '15145', '15205', '15247', '1527', '1531', '15930', '1605', '1610', '16514', '16809', '1683', '17106', '17206', '1729', '1752', '17998', '1820', '18238', '18614', '1885', '18864', '19041', '19171', '1919', '19553', '1962', '1964', '2000', '20019', '2002', '2017', '20322', '20375', '20583', '20670', '20708', '20969', '2099', '21470', '21704', '2177', '21903', '2201', '22479', '23478', '2351', '23609', '23770', '24567', '2465', '25030', '2530', '2544', '258', '25849', '263', '26301', '265', '2656', '266', '267', '268', '269', '2727', '2739', '275', '276', '28010', '28074', '28156', '2846', '285', '28753', '28956', '291', '29177', '2940', '29510', '2996', '300', '3002', '30096', '30115', '3055', '3077', '309', '30998', '31121', '316', '31845', '3195', '3207', '32158', '32345', '325', '32676', '3274', '32827', '33222', '3323', '333', '3358', '336', '33871', '339', '3409', '3422', '34232', '3427', '34360', '34431', '3473', '3479', '35124', '35214', '3522', '3528', '355', '3556', '35627', '3565', '35676', '35734', '3646', '3684', '37227', '37241', '373', '37593', '37890', '383', '3852', '388', '39393', '39724', '398', '3983', '39830', '39870', '4004', '4057', '40617', '4070', '4102', '412', '414', '41450', '4151', '4199', '42312', '424', '4265', '4291', '42967', '43063', '4344', '43440', '4345', '4354', '4372', '43741', '438', '44466', '45010', '45359', '455', '456', '45807', '4581', '46068', '4636', '46584', '47492', '4752', '47530', '4805', '485', '491', '4919', '49532', '49818', '49864', '50828', '50998', '51464', '5269', '52898', '53770', '54277', '543', '54719', '54760', '548', '54895', '5562', '56371', '56950', '576', '57753', '57839', '579', '582', '588', '59178', '596', '59723', '59961', '60301', '606', '609', '6095', '61036', '6173', '61752', '61917', '631', '638', '63995', '64', '65', '6518', '657', '66372', '67', '67733', '6797', '6836', '68632', '6881', '69', '69386', '69849', '70614', '7070', '7072', '708', '7096', '71', '716', '71830', '71839', '72', '7259', '726', '73254', '73826', '74303', '74914', '75', '753', '76', '768', '77', '77405', '785', '8154', '818', '8248', '82850', '82977', '83', '83071', '8370', '84270', '86243', '88', '9054', '90579', '906', '9210', '9274', '93057', '9336', '936', '94323', '94427', '9493', '95065', '9514', '956', '959', '9620', '9739', '985', '989', '98936', '998'] not in stop_words.\n",
      "  warnings.warn(\n"
     ]
    },
    {
     "name": "stdout",
     "output_type": "stream",
     "text": [
      "Features dimension: (255256, 23333890)\n",
      "Classification Report:\n",
      "               precision    recall  f1-score   support\n",
      "\n",
      "           0       0.82      1.00      0.90     45082\n",
      "           1       0.98      0.48      0.64     18733\n",
      "\n",
      "    accuracy                           0.84     63815\n",
      "   macro avg       0.90      0.74      0.77     63815\n",
      "weighted avg       0.87      0.84      0.82     63815\n",
      "\n"
     ]
    },
    {
     "data": {
      "image/png": "[encoded data removed]",
      "text/plain": [
       "<Figure size 2000x500 with 3 Axes>"
      ]
     },
     "metadata": {},
     "output_type": "display_data"
    }
   ],
   "source": [
    "classifiers = {\n",
    "    \"lemma\": model3,\n",
    "    \"bytes-pair\": model4,\n",
    "}\n",
    "\n",
    "f, axes = plt.subplots(1, 2, figsize=(20, 5), sharey='row')\n",
    "\n",
    "for i, (key, classifier) in enumerate(classifiers.items()):\n",
    "    print(\"Model: \" + key)\n",
    "    y_pred = classifier.fit(X_train, y_train).predict(X_test)\n",
    "    cf_matrix = confusion_matrix(y_test, y_pred)\n",
    "    print(f\"Features dimension: {len(X_train), len(classifier[0].vocabulary_)}\")\n",
    "    print(\"Classification Report:\\n\", classification_report(y_test, y_pred))\n",
    "    \n",
    "    disp = ConfusionMatrixDisplay(cf_matrix,\n",
    "                                  display_labels=classifier.classes_)\n",
    "    disp.plot(ax=axes[i], xticks_rotation=45)\n",
    "    disp.ax_.set_title(key)\n",
    "    disp.im_.colorbar.remove()\n",
    "    disp.ax_.set_xlabel('')\n",
    "    if i!=0: \n",
    "        disp.ax_.set_ylabel('')\n",
    "\n",
    "f.text(0.4, 0.1, 'Predicted label', ha='left')\n",
    "plt.subplots_adjust(wspace=0.40, hspace=0.1)\n",
    "\n",
    "\n",
    "f.colorbar(disp.im_, ax=axes)\n",
    "plt.show()"
   ]
  }
 ],
 "metadata": {
  "kernelspec": {
   "display_name": "Python 3 (ipykernel)",
   "language": "python",
   "name": "python3"
  },
  "language_info": {
   "codemirror_mode": {
    "name": "ipython",
    "version": 3
   },
   "file_extension": ".py",
   "mimetype": "text/x-python",
   "name": "python",
   "nbconvert_exporter": "python",
   "pygments_lexer": "ipython3",
   "version": "3.10.11"
  }
 },
 "nbformat": 4,
 "nbformat_minor": 5
}

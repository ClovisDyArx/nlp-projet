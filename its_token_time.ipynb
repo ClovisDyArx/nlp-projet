{
 "cells": [
  {
   "cell_type": "code",
   "execution_count": 8,
   "id": "ad071cb7-bf14-4da7-82b0-4da98c791981",
   "metadata": {},
   "outputs": [],
   "source": [
    "import pandas as pd\n",
    "import seaborn as sns\n",
    "import matplotlib.pyplot as plt\n",
    "from datasets import load_dataset\n",
    "from nltk import word_tokenize          \n",
    "from nltk.stem import WordNetLemmatizer \n",
    "import tiktoken\n",
    "\n",
    "from sklearn.model_selection import train_test_split, cross_val_score, GridSearchCV, StratifiedKFold\n",
    "from sklearn.feature_extraction.text import CountVectorizer, TfidfVectorizer, TfidfTransformer\n",
    "from sklearn.naive_bayes import MultinomialNB\n",
    "from sklearn.pipeline import make_pipeline\n",
    "from sklearn.metrics import classification_report, accuracy_score, ConfusionMatrixDisplay, confusion_matrix\n",
    "from sklearn.utils.class_weight import compute_sample_weight\n",
    "from sklearn.linear_model import LogisticRegression\n",
    "from sklearn.preprocessing import StandardScaler\n",
    "from sklearn.ensemble import VotingClassifier\n",
    "\n",
    "from spacy.lang.fr.stop_words import STOP_WORDS as fr_stop\n",
    "from spacy.lang.en.stop_words import STOP_WORDS as en_stop\n",
    "\n",
    "import re"
   ]
  },
  {
   "cell_type": "code",
   "execution_count": 9,
   "id": "eeb6fc69-ace2-474b-8019-0bb4bc30efbd",
   "metadata": {},
   "outputs": [
    {
     "name": "stderr",
     "output_type": "stream",
     "text": [
      "[nltk_data] Downloading package stopwords to\n",
      "[nltk_data]     C:\\Users\\Eliana\\AppData\\Roaming\\nltk_data...\n",
      "[nltk_data]   Package stopwords is already up-to-date!\n",
      "[nltk_data] Downloading package wordnet to\n",
      "[nltk_data]     C:\\Users\\Eliana\\AppData\\Roaming\\nltk_data...\n",
      "[nltk_data]   Package wordnet is already up-to-date!\n"
     ]
    }
   ],
   "source": [
    "import nltk\n",
    "\n",
    "nltk.download('stopwords')\n",
    "from nltk.corpus import stopwords\n",
    "\n",
    "nltk.download('wordnet')\n",
    "from nltk.stem import WordNetLemmatizer "
   ]
  },
  {
   "cell_type": "code",
   "execution_count": 10,
   "id": "ef8c5e29-e20a-4827-8787-5077f027e8a9",
   "metadata": {},
   "outputs": [],
   "source": [
    "def lemma_tokenize(doc):\n",
    "    wnl = WordNetLemmatizer()\n",
    "    return [wnl.lemmatize(t) for t in word_tokenize(doc)]\n",
    "\n",
    "def preprocess(text):\n",
    "  text = str(text).lower().strip() #tester aussi sans lower pour voir la différence\n",
    "  tokens = []\n",
    "  for token in text.split():\n",
    "    if token not in en_stop:\n",
    "      tokens.append(token)\n",
    "  return \" \".join(tokens)\n",
    "\n",
    "def byte_pair_tokenize(doc):\n",
    "    enc = tiktoken.encoding_for_model(\"gpt-4\")\n",
    "    tokens = enc.encode(doc)\n",
    "    return [str(token) for token in tokens]"
   ]
  },
  {
   "cell_type": "code",
   "execution_count": 11,
   "id": "79480104-92f9-47e1-896d-c975c8d972ac",
   "metadata": {},
   "outputs": [
    {
     "data": {
      "text/html": [
       "<div>\n",
       "<style scoped>\n",
       "    .dataframe tbody tr th:only-of-type {\n",
       "        vertical-align: middle;\n",
       "    }\n",
       "\n",
       "    .dataframe tbody tr th {\n",
       "        vertical-align: top;\n",
       "    }\n",
       "\n",
       "    .dataframe thead th {\n",
       "        text-align: right;\n",
       "    }\n",
       "</style>\n",
       "<table border=\"1\" class=\"dataframe\">\n",
       "  <thead>\n",
       "    <tr style=\"text-align: right;\">\n",
       "      <th></th>\n",
       "      <th>text</th>\n",
       "      <th>label</th>\n",
       "      <th>src</th>\n",
       "    </tr>\n",
       "  </thead>\n",
       "  <tbody>\n",
       "    <tr>\n",
       "      <th>0</th>\n",
       "      <td>White girls very rarely date Asian men. Even i...</td>\n",
       "      <td>1</td>\n",
       "      <td>cmv_human</td>\n",
       "    </tr>\n",
       "    <tr>\n",
       "      <th>1</th>\n",
       "      <td>I am a 23 year old male Indian American male. ...</td>\n",
       "      <td>1</td>\n",
       "      <td>cmv_human</td>\n",
       "    </tr>\n",
       "    <tr>\n",
       "      <th>2</th>\n",
       "      <td>Take three people, Persons A, B, and C. They l...</td>\n",
       "      <td>1</td>\n",
       "      <td>cmv_human</td>\n",
       "    </tr>\n",
       "    <tr>\n",
       "      <th>3</th>\n",
       "      <td>(A) Work part-time in high school; Then go to ...</td>\n",
       "      <td>1</td>\n",
       "      <td>cmv_human</td>\n",
       "    </tr>\n",
       "    <tr>\n",
       "      <th>4</th>\n",
       "      <td>When police introduce a new form of speed prev...</td>\n",
       "      <td>1</td>\n",
       "      <td>cmv_human</td>\n",
       "    </tr>\n",
       "  </tbody>\n",
       "</table>\n",
       "</div>"
      ],
      "text/plain": [
       "                                                text  label        src\n",
       "0  White girls very rarely date Asian men. Even i...      1  cmv_human\n",
       "1  I am a 23 year old male Indian American male. ...      1  cmv_human\n",
       "2  Take three people, Persons A, B, and C. They l...      1  cmv_human\n",
       "3  (A) Work part-time in high school; Then go to ...      1  cmv_human\n",
       "4  When police introduce a new form of speed prev...      1  cmv_human"
      ]
     },
     "execution_count": 11,
     "metadata": {},
     "output_type": "execute_result"
    }
   ],
   "source": [
    "dataset = load_dataset(\"yaful/DeepfakeTextDetect\")\n",
    "df = dataset[\"train\"].to_pandas()\n",
    "df.head()"
   ]
  },
  {
   "cell_type": "code",
   "execution_count": 12,
   "id": "bf237862",
   "metadata": {},
   "outputs": [
    {
     "name": "stdout",
     "output_type": "stream",
     "text": [
      "nombre de phrases: 319071\n"
     ]
    }
   ],
   "source": [
    "text_list = list(df[\"text\"])\n",
    "print(\"nombre de phrases:\", len(text_list))"
   ]
  },
  {
   "cell_type": "code",
   "execution_count": 13,
   "id": "2007a488",
   "metadata": {},
   "outputs": [
    {
     "name": "stdout",
     "output_type": "stream",
     "text": [
      "nombre de token word_tokenize 77635060\n",
      "nombre de token word_tokenize unique 561754\n"
     ]
    }
   ],
   "source": [
    "text_strings = \" \".join(text_list)\n",
    "text_tokens = word_tokenize(text_strings)\n",
    "print(\"nombre de token word_tokenize\", len(text_tokens))\n",
    "print(\"nombre de token word_tokenize unique\", len(set(text_tokens)))"
   ]
  },
  {
   "cell_type": "code",
   "execution_count": 14,
   "id": "f462c1be",
   "metadata": {},
   "outputs": [
    {
     "name": "stdout",
     "output_type": "stream",
     "text": [
      "nombre de token lemma_tokenize 77635060\n",
      "nombre de token lemma_tokenize unqiues 546609\n"
     ]
    }
   ],
   "source": [
    "text_tokens = lemma_tokenize(text_strings)\n",
    "print(\"nombre de token lemma_tokenize\", len(text_tokens))\n",
    "print(\"nombre de token lemma_tokenize unqiues\", len(set(text_tokens)))"
   ]
  },
  {
   "cell_type": "code",
   "execution_count": 15,
   "id": "54647641",
   "metadata": {},
   "outputs": [
    {
     "name": "stdout",
     "output_type": "stream",
     "text": [
      "nombre de token byte_pair 82438389\n",
      "nombre de token byte_pair uniques 64150\n"
     ]
    }
   ],
   "source": [
    "text_tokens = byte_pair_tokenize(text_strings)\n",
    "print(\"nombre de token byte_pair\", len(text_tokens))\n",
    "print(\"nombre de token byte_pair uniques\", len(set(text_tokens)))"
   ]
  },
  {
   "cell_type": "code",
   "execution_count": 16,
   "id": "a87581ff",
   "metadata": {},
   "outputs": [
    {
     "name": "stdout",
     "output_type": "stream",
     "text": [
      "nombre de token byte_pair without stop_words 50537766\n",
      "nombre de token byte_pair without stop_words uniques 42906\n"
     ]
    }
   ],
   "source": [
    "text_tokens = byte_pair_tokenize(preprocess(text_strings))\n",
    "print(\"nombre de token byte_pair without stop_words\", len(text_tokens))\n",
    "print(\"nombre de token byte_pair without stop_words uniques\", len(set(text_tokens)))"
   ]
  },
  {
   "cell_type": "code",
   "execution_count": 17,
   "id": "f5618903",
   "metadata": {},
   "outputs": [
    {
     "name": "stdout",
     "output_type": "stream",
     "text": [
      "nombre de token lemma_tokenize without stop_words 44907900\n",
      "nombre de token lemma_tokenize without stop_words uniques 469820\n"
     ]
    }
   ],
   "source": [
    "text_tokens = lemma_tokenize(preprocess(text_strings))\n",
    "print(\"nombre de token lemma_tokenize without stop_words\", len(text_tokens))\n",
    "print(\"nombre de token lemma_tokenize without stop_words uniques\", len(set(text_tokens)))"
   ]
  }
 ],
 "metadata": {
  "kernelspec": {
   "display_name": "Python 3 (ipykernel)",
   "language": "python",
   "name": "python3"
  },
  "language_info": {
   "codemirror_mode": {
    "name": "ipython",
    "version": 3
   },
   "file_extension": ".py",
   "mimetype": "text/x-python",
   "name": "python",
   "nbconvert_exporter": "python",
   "pygments_lexer": "ipython3",
   "version": "3.10.11"
  }
 },
 "nbformat": 4,
 "nbformat_minor": 5
}
